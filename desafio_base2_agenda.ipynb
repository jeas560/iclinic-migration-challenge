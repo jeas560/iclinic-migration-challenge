{
 "cells": [
  {
   "cell_type": "markdown",
   "metadata": {},
   "source": [
    "## Tratamento da tabela 'text04'\n",
    "\n",
    "Neste caderno será apresentada a exploração inicial e tratamento dos dados da tabela 'text04'."
   ]
  },
  {
   "cell_type": "markdown",
   "metadata": {},
   "source": [
    "### Importação das bibliotecas\n",
    " \n",
    "A seguir uma breve apresentação de cada biblioteca que será utilizada:\n",
    "\n",
    "- A biblioteca [NumPy](https://numpy.org/) é fundamental para qualquer tipo de computação científica em Python\n",
    "- A biblioteca [pandas](https://pandas.pydata.org/) é a nossa ferramenta pricipal para análise e manipulação de dados\n",
    "- A biblioteca [python-decouple](https://github.com/henriquebastos/python-decouple) auxiliar para trabalhar com variaveis de ambiente\n",
    "- A biblioteca [SQLAlchemy](https://www.sqlalchemy.org/) é uma biblioteca de mapeamento objeto-relacional SQL"
   ]
  },
  {
   "cell_type": "code",
   "execution_count": 1,
   "metadata": {},
   "outputs": [],
   "source": [
    "import numpy as np\n",
    "import pandas as pd\n",
    "\n",
    "import decouple\n",
    "import sqlalchemy"
   ]
  },
  {
   "cell_type": "markdown",
   "metadata": {},
   "source": [
    "### Leitura e tratamento inicial dos dados de entrada\n",
    "\n",
    "Para poder realizar a conexão com o banco de dados `SQL`, precisaremos de algumas informações que estão armazenadas no arquivo `.env` e quer serão importadas através da biblioteca `decouple`, como a seguir:"
   ]
  },
  {
   "cell_type": "code",
   "execution_count": 2,
   "metadata": {},
   "outputs": [],
   "source": [
    "user = decouple.config(\"db_user_mysql\")\n",
    "host = decouple.config('db_host_mysql')\n",
    "password = decouple.config('db_password_mysql')\n",
    "database = decouple.config(\"db_database_mysql\")"
   ]
  },
  {
   "cell_type": "markdown",
   "metadata": {},
   "source": [
    "Através da biblioteca `sqlalchemy` será criado o objeto [Engine](https://docs.sqlalchemy.org/en/14/core/connections.html#sqlalchemy.engine.Engine) que é baseado na URL do banco de dados."
   ]
  },
  {
   "cell_type": "code",
   "execution_count": null,
   "metadata": {},
   "outputs": [],
   "source": [
    "connection = sqlalchemy.create_engine(\"mysql+mysqldb://\"+user+\":\"+password+\"@\"+host+\"/\"+database)"
   ]
  },
  {
   "cell_type": "markdown",
   "metadata": {},
   "source": [
    "Será necessário instalar o pacote cujo nome para instalação no Ubuntu 20.04 é `libmysqlclient-dev` para utilizar o driver `mysqldb`, caso não esteja instalado.\n",
    "\n",
    "Em seguida, através da biblioteca `pandas` é realizada a importação da tabela 'plan02' utilizando a função `read_sql_table()`, onde o parâmetro `con = connection` é o objeto `engine` criado na célula anterior."
   ]
  },
  {
   "cell_type": "code",
   "execution_count": 3,
   "metadata": {},
   "outputs": [
    {
     "data": {
      "text/html": [
       "<div>\n",
       "<style scoped>\n",
       "    .dataframe tbody tr th:only-of-type {\n",
       "        vertical-align: middle;\n",
       "    }\n",
       "\n",
       "    .dataframe tbody tr th {\n",
       "        vertical-align: top;\n",
       "    }\n",
       "\n",
       "    .dataframe thead th {\n",
       "        text-align: right;\n",
       "    }\n",
       "</style>\n",
       "<table border=\"1\" class=\"dataframe\">\n",
       "  <thead>\n",
       "    <tr style=\"text-align: right;\">\n",
       "      <th></th>\n",
       "      <th>0</th>\n",
       "      <th>1</th>\n",
       "      <th>2</th>\n",
       "      <th>3</th>\n",
       "      <th>4</th>\n",
       "    </tr>\n",
       "  </thead>\n",
       "  <tbody>\n",
       "    <tr>\n",
       "      <th>counter</th>\n",
       "      <td>1</td>\n",
       "      <td>2</td>\n",
       "      <td>3</td>\n",
       "      <td>4</td>\n",
       "      <td>5</td>\n",
       "    </tr>\n",
       "    <tr>\n",
       "      <th>paciente</th>\n",
       "      <td>356.0</td>\n",
       "      <td>317.0</td>\n",
       "      <td>188.0</td>\n",
       "      <td>53.0</td>\n",
       "      <td>175.0</td>\n",
       "    </tr>\n",
       "    <tr>\n",
       "      <th>nometexto</th>\n",
       "      <td>Pedido exame</td>\n",
       "      <td>Pedido exame</td>\n",
       "      <td>Atestado</td>\n",
       "      <td>Pedido exame</td>\n",
       "      <td>Atestado</td>\n",
       "    </tr>\n",
       "    <tr>\n",
       "      <th>texto</th>\n",
       "      <td>&lt;h2&gt;Requisição de exames&lt;/h2&gt;\\n&lt;br/&gt;\\n&lt;p&gt;&amp;nbsp...</td>\n",
       "      <td>&lt;h2&gt;Requisição de exames&lt;/h2&gt;\\n&lt;br/&gt;\\n&lt;p&gt;&amp;nbsp...</td>\n",
       "      <td>&lt;h2&gt;Atestado por Acidente de Trabalho&lt;/h2&gt;\\n&lt;b...</td>\n",
       "      <td>&lt;h2&gt;Requisição de exames&lt;/h2&gt;\\n&lt;br/&gt;\\n&lt;p&gt;&amp;nbsp...</td>\n",
       "      <td>&lt;h2&gt;Atestado de Sanidade Física e Mental&lt;/h2&gt;\\...</td>\n",
       "    </tr>\n",
       "    <tr>\n",
       "      <th>datatexto</th>\n",
       "      <td>2016-07-03 09:41:03</td>\n",
       "      <td>2016-07-06 18:53:30</td>\n",
       "      <td>2016-07-09 16:31:48</td>\n",
       "      <td>2016-07-12 20:47:14</td>\n",
       "      <td>2016-07-19 06:10:31</td>\n",
       "    </tr>\n",
       "    <tr>\n",
       "      <th>timestamp</th>\n",
       "      <td>2021-07-01 18:06:19</td>\n",
       "      <td>2021-07-01 18:06:19</td>\n",
       "      <td>2021-07-01 18:06:19</td>\n",
       "      <td>2021-07-01 18:06:19</td>\n",
       "      <td>2021-07-01 18:06:19</td>\n",
       "    </tr>\n",
       "    <tr>\n",
       "      <th>cloud</th>\n",
       "      <td>1</td>\n",
       "      <td>0</td>\n",
       "      <td>0</td>\n",
       "      <td>1</td>\n",
       "      <td>1</td>\n",
       "    </tr>\n",
       "    <tr>\n",
       "      <th>update001</th>\n",
       "      <td>2021-05-18 12:51:57</td>\n",
       "      <td>2021-02-14 22:10:44</td>\n",
       "      <td>2021-05-24 20:12:22</td>\n",
       "      <td>2021-04-15 05:15:22</td>\n",
       "      <td>2020-11-24 20:06:14</td>\n",
       "    </tr>\n",
       "    <tr>\n",
       "      <th>ch3</th>\n",
       "      <td>1</td>\n",
       "      <td>1</td>\n",
       "      <td>1</td>\n",
       "      <td>1</td>\n",
       "      <td>1</td>\n",
       "    </tr>\n",
       "    <tr>\n",
       "      <th>sysuser</th>\n",
       "      <td>5</td>\n",
       "      <td>5</td>\n",
       "      <td>6</td>\n",
       "      <td>2</td>\n",
       "      <td>7</td>\n",
       "    </tr>\n",
       "  </tbody>\n",
       "</table>\n",
       "</div>"
      ],
      "text/plain": [
       "                                                           0  \\\n",
       "counter                                                    1   \n",
       "paciente                                               356.0   \n",
       "nometexto                                       Pedido exame   \n",
       "texto      <h2>Requisição de exames</h2>\\n<br/>\\n<p>&nbsp...   \n",
       "datatexto                                2016-07-03 09:41:03   \n",
       "timestamp                                2021-07-01 18:06:19   \n",
       "cloud                                                      1   \n",
       "update001                                2021-05-18 12:51:57   \n",
       "ch3                                                        1   \n",
       "sysuser                                                    5   \n",
       "\n",
       "                                                           1  \\\n",
       "counter                                                    2   \n",
       "paciente                                               317.0   \n",
       "nometexto                                       Pedido exame   \n",
       "texto      <h2>Requisição de exames</h2>\\n<br/>\\n<p>&nbsp...   \n",
       "datatexto                                2016-07-06 18:53:30   \n",
       "timestamp                                2021-07-01 18:06:19   \n",
       "cloud                                                      0   \n",
       "update001                                2021-02-14 22:10:44   \n",
       "ch3                                                        1   \n",
       "sysuser                                                    5   \n",
       "\n",
       "                                                           2  \\\n",
       "counter                                                    3   \n",
       "paciente                                               188.0   \n",
       "nometexto                                           Atestado   \n",
       "texto      <h2>Atestado por Acidente de Trabalho</h2>\\n<b...   \n",
       "datatexto                                2016-07-09 16:31:48   \n",
       "timestamp                                2021-07-01 18:06:19   \n",
       "cloud                                                      0   \n",
       "update001                                2021-05-24 20:12:22   \n",
       "ch3                                                        1   \n",
       "sysuser                                                    6   \n",
       "\n",
       "                                                           3  \\\n",
       "counter                                                    4   \n",
       "paciente                                                53.0   \n",
       "nometexto                                       Pedido exame   \n",
       "texto      <h2>Requisição de exames</h2>\\n<br/>\\n<p>&nbsp...   \n",
       "datatexto                                2016-07-12 20:47:14   \n",
       "timestamp                                2021-07-01 18:06:19   \n",
       "cloud                                                      1   \n",
       "update001                                2021-04-15 05:15:22   \n",
       "ch3                                                        1   \n",
       "sysuser                                                    2   \n",
       "\n",
       "                                                           4  \n",
       "counter                                                    5  \n",
       "paciente                                               175.0  \n",
       "nometexto                                           Atestado  \n",
       "texto      <h2>Atestado de Sanidade Física e Mental</h2>\\...  \n",
       "datatexto                                2016-07-19 06:10:31  \n",
       "timestamp                                2021-07-01 18:06:19  \n",
       "cloud                                                      1  \n",
       "update001                                2020-11-24 20:06:14  \n",
       "ch3                                                        1  \n",
       "sysuser                                                    7  "
      ]
     },
     "execution_count": 3,
     "metadata": {},
     "output_type": "execute_result"
    }
   ],
   "source": [
    "df = pd.read_sql_table('text04', con = connection)"
   ]
  },
  {
   "cell_type": "markdown",
   "metadata": {},
   "source": [
    "### Visualização dos dados\n",
    "\n",
    "Nas próximas duas células é realizada a visualização inicial dos dados.\n",
    "\n",
    "Usando o método `head()` do `pandas` com um argumento `4` nele é possível visualizar os primeiros `4` registros do Dataframe.\n",
    "    \n",
    "O `.T` significa `Transposição`, desta forma as linhas serão visualizadas como colunas e vice-versa."
   ]
  },
  {
   "cell_type": "code",
   "execution_count": null,
   "metadata": {},
   "outputs": [],
   "source": [
    "df.head(4).T"
   ]
  },
  {
   "cell_type": "markdown",
   "metadata": {},
   "source": [
    "O método `info()` do `pandas` apresenta um resumo dos dados no Dataframe, uma informação interessante é o tipo de dado de cada recurso."
   ]
  },
  {
   "cell_type": "code",
   "execution_count": 4,
   "metadata": {},
   "outputs": [
    {
     "name": "stdout",
     "output_type": "stream",
     "text": [
      "<class 'pandas.core.frame.DataFrame'>\n",
      "RangeIndex: 350 entries, 0 to 349\n",
      "Data columns (total 10 columns):\n",
      " #   Column     Non-Null Count  Dtype         \n",
      "---  ------     --------------  -----         \n",
      " 0   counter    350 non-null    int64         \n",
      " 1   paciente   349 non-null    float64       \n",
      " 2   nometexto  350 non-null    object        \n",
      " 3   texto      350 non-null    object        \n",
      " 4   datatexto  350 non-null    datetime64[ns]\n",
      " 5   timestamp  350 non-null    datetime64[ns]\n",
      " 6   cloud      350 non-null    int64         \n",
      " 7   update001  350 non-null    datetime64[ns]\n",
      " 8   ch3        350 non-null    int64         \n",
      " 9   sysuser    350 non-null    int64         \n",
      "dtypes: datetime64[ns](3), float64(1), int64(4), object(2)\n",
      "memory usage: 27.5+ KB\n"
     ]
    }
   ],
   "source": [
    "df.info()"
   ]
  },
  {
   "cell_type": "markdown",
   "metadata": {},
   "source": [
    "## Limpeza e tratamento dos dados\n",
    "\n",
    "A seguir será realizada a limpeza e tratamento dos dados.\n",
    "\n",
    "### Valores ausentes, valores equivalentes e tratamento inicial\n",
    "\n",
    "Quando utilizamos o método `info()` para ver o resumo dos dados, foi possível ver que muitas colunas tinham muitos dados ausentes, entrentanto, na documentação da iClinic é possível ver que os campos `patient_birth_date`, `patient_name`, `physician_id` e `date` são obrigatórios e no Dataset anterior as colunas `sysuser` e `datatexto` são seus equivalentes, ainda, nenhuma coluna possui valores nulos nos seus registros, logo, a priori, não será necessário um maior tratamento para cumprir as condições obrigatórias, mas precisaremos obter `patient_birth_date` e `patient_name`.\n",
    "\n",
    "\n",
    "O tratamento de algumas colunas será realizado em seguida, começando com mudança nos nomes das colunas para seus equivalentes no padrão iClinic."
   ]
  },
  {
   "cell_type": "code",
   "execution_count": 5,
   "metadata": {},
   "outputs": [],
   "source": [
    "# Colocando o nome das colunas do arquivo de acordo a documentação da iClinic\n",
    "df = df.rename(\n",
    "    columns = {\n",
    "        \"paciente\":\"patient_id\",\n",
    "        \"sysuser\": \"physician_id\",\n",
    "        \"nometexto\": \"eventprocedure_pack\", #tratar depois\n",
    "        \"texto\": \"description\", #tratar depois\n",
    "        \"datatexto\": \"date\",\n",
    "        \"timestamp\": \"start_time\",\n",
    "        \"update001\": \"end_time\",\n",
    "    }\n",
    ")"
   ]
  },
  {
   "cell_type": "code",
   "execution_count": 6,
   "metadata": {},
   "outputs": [],
   "source": [
    "df['status'] = \"cp\"\n",
    "df['patient_mobile_phone'] = np.nan\n",
    "df['arrival_time'] = np.nan #tratar depois\n",
    "df['all_day'] = np.nan\n",
    "df['cancel_reason'] = np.nan \n",
    "df['event_blocked_scheduling'] = np.nan\n",
    "\n",
    "#tratar depois\n",
    "# df['patient_name'] = \n",
    "# df['patient_home_phone'] =\n",
    "# df['patient_email'] =\n",
    "# df['healthinsurance_name'] ="
   ]
  },
  {
   "cell_type": "code",
   "execution_count": 7,
   "metadata": {},
   "outputs": [
    {
     "data": {
      "text/html": [
       "<div>\n",
       "<style scoped>\n",
       "    .dataframe tbody tr th:only-of-type {\n",
       "        vertical-align: middle;\n",
       "    }\n",
       "\n",
       "    .dataframe tbody tr th {\n",
       "        vertical-align: top;\n",
       "    }\n",
       "\n",
       "    .dataframe thead th {\n",
       "        text-align: right;\n",
       "    }\n",
       "</style>\n",
       "<table border=\"1\" class=\"dataframe\">\n",
       "  <thead>\n",
       "    <tr style=\"text-align: right;\">\n",
       "      <th>patient_id</th>\n",
       "      <th>1</th>\n",
       "      <th>2</th>\n",
       "      <th>3</th>\n",
       "      <th>4</th>\n",
       "      <th>5</th>\n",
       "      <th>6</th>\n",
       "      <th>7</th>\n",
       "    </tr>\n",
       "  </thead>\n",
       "  <tbody>\n",
       "    <tr>\n",
       "      <th>name</th>\n",
       "      <td>Nicolas Freitas Teste</td>\n",
       "      <td>Gustavo Silveira Teste</td>\n",
       "      <td>Otávio Barros Teste</td>\n",
       "      <td>Davi Lucas Fogaça Teste</td>\n",
       "      <td>Bruna Santos Teste</td>\n",
       "      <td>Daniel Campos Teste</td>\n",
       "      <td>João Pedro Lima Teste</td>\n",
       "    </tr>\n",
       "    <tr>\n",
       "      <th>home_phone</th>\n",
       "      <td>(31)6547-8284</td>\n",
       "      <td>(81)3557-3324</td>\n",
       "      <td>(21)2657-0791</td>\n",
       "      <td>(61)9625-2747</td>\n",
       "      <td>(11)0218-1507</td>\n",
       "      <td>(84)7891-0063</td>\n",
       "      <td>(11)1719-0456</td>\n",
       "    </tr>\n",
       "    <tr>\n",
       "      <th>email</th>\n",
       "      <td>luigi31@moura.org</td>\n",
       "      <td>souzanicolas@hotmail.com</td>\n",
       "      <td>tcampos@silva.br</td>\n",
       "      <td>marianaaragao@da.com</td>\n",
       "      <td>ateixeira@barros.net</td>\n",
       "      <td>eloah67@gmail.com</td>\n",
       "      <td>ramosevelyn@alves.org</td>\n",
       "    </tr>\n",
       "    <tr>\n",
       "      <th>healthinsurance_pack</th>\n",
       "      <td>json::[\\n\\t{\\n\\t\\t\"name\":\"SulAmérica\",\\n\\t\\t\"c...</td>\n",
       "      <td>json::[\\n\\t{\\n\\t\\t\"name\":\"ABBESS\",\\n\\t\\t\"code\"...</td>\n",
       "      <td>json::[\\n\\t{\\n\\t\\t\"name\":\"SulAmérica\",\\n\\t\\t\"c...</td>\n",
       "      <td>NaN</td>\n",
       "      <td>json::[\\n\\t{\\n\\t\\t\"name\":\"Assistência Médica S...</td>\n",
       "      <td>json::[\\n\\t{\\n\\t\\t\"name\":\"Caring Saúde Assistê...</td>\n",
       "      <td>json::[\\n\\t{\\n\\t\\t\"name\":\"Allianz\",\\n\\t\\t\"code...</td>\n",
       "    </tr>\n",
       "  </tbody>\n",
       "</table>\n",
       "</div>"
      ],
      "text/plain": [
       "patient_id                                                            1  \\\n",
       "name                                              Nicolas Freitas Teste   \n",
       "home_phone                                                (31)6547-8284   \n",
       "email                                                 luigi31@moura.org   \n",
       "healthinsurance_pack  json::[\\n\\t{\\n\\t\\t\"name\":\"SulAmérica\",\\n\\t\\t\"c...   \n",
       "\n",
       "patient_id                                                            2  \\\n",
       "name                                             Gustavo Silveira Teste   \n",
       "home_phone                                                (81)3557-3324   \n",
       "email                                          souzanicolas@hotmail.com   \n",
       "healthinsurance_pack  json::[\\n\\t{\\n\\t\\t\"name\":\"ABBESS\",\\n\\t\\t\"code\"...   \n",
       "\n",
       "patient_id                                                            3  \\\n",
       "name                                                Otávio Barros Teste   \n",
       "home_phone                                                (21)2657-0791   \n",
       "email                                                  tcampos@silva.br   \n",
       "healthinsurance_pack  json::[\\n\\t{\\n\\t\\t\"name\":\"SulAmérica\",\\n\\t\\t\"c...   \n",
       "\n",
       "patient_id                                  4  \\\n",
       "name                  Davi Lucas Fogaça Teste   \n",
       "home_phone                      (61)9625-2747   \n",
       "email                    marianaaragao@da.com   \n",
       "healthinsurance_pack                      NaN   \n",
       "\n",
       "patient_id                                                            5  \\\n",
       "name                                                 Bruna Santos Teste   \n",
       "home_phone                                                (11)0218-1507   \n",
       "email                                              ateixeira@barros.net   \n",
       "healthinsurance_pack  json::[\\n\\t{\\n\\t\\t\"name\":\"Assistência Médica S...   \n",
       "\n",
       "patient_id                                                            6  \\\n",
       "name                                                Daniel Campos Teste   \n",
       "home_phone                                                (84)7891-0063   \n",
       "email                                                 eloah67@gmail.com   \n",
       "healthinsurance_pack  json::[\\n\\t{\\n\\t\\t\"name\":\"Caring Saúde Assistê...   \n",
       "\n",
       "patient_id                                                            7  \n",
       "name                                              João Pedro Lima Teste  \n",
       "home_phone                                                (11)1719-0456  \n",
       "email                                             ramosevelyn@alves.org  \n",
       "healthinsurance_pack  json::[\\n\\t{\\n\\t\\t\"name\":\"Allianz\",\\n\\t\\t\"code...  "
      ]
     },
     "execution_count": 7,
     "metadata": {},
     "output_type": "execute_result"
    }
   ],
   "source": [
    "# Tratamento 'patient_name'\n",
    "df_patient = pd.read_csv('desafio-base2-output/patient.csv', index_col=[\"patient_code\"], usecols = [\"patient_id\",\"name\",\"home_phone\",\"email\",\"healthinsurance_pack\"])\n",
    "df_patient.head(7).T"
   ]
  },
  {
   "cell_type": "code",
   "execution_count": 8,
   "metadata": {},
   "outputs": [],
   "source": [
    "# Tratamento 'patient_name'\n",
    "df['patient_id'] = df['patient_id'].replace({np.nan: 10000000})\n",
    "# teste = df['patient_id'].astype(str).str.contains(r'^0')\n",
    "# print(teste.value_counts())"
   ]
  },
  {
   "cell_type": "code",
   "execution_count": 9,
   "metadata": {},
   "outputs": [],
   "source": [
    "# Tratamento 'patient_name'\n",
    "df['patient_id'] = [int(x) if x <= df_patient['name'].size else 0 for x in df['patient_id'] ]\n",
    "df['patient_name'] = [ df_patient['name'][i] if i != 0 else np.nan for i in df['patient_id'] ]\n",
    "df['patient_home_phone'] = [ df_patient['home_phone'][i] if i != 0 else np.nan for i in df['patient_id'] ]\n",
    "df['patient_email'] = [ df_patient['email'][i] if i != 0 else np.nan for i in df['patient_id'] ]"
   ]
  },
  {
   "cell_type": "code",
   "execution_count": 10,
   "metadata": {},
   "outputs": [],
   "source": [
    "# Removendo a linha que contem NaN pois ter o 'patient_name' é mandatório\n",
    "# df['patient_name'].value_counts(dropna=False)\n",
    "df = df.dropna(subset = ['patient_name'])"
   ]
  },
  {
   "cell_type": "code",
   "execution_count": 11,
   "metadata": {},
   "outputs": [
    {
     "data": {
      "text/html": [
       "<div>\n",
       "<style scoped>\n",
       "    .dataframe tbody tr th:only-of-type {\n",
       "        vertical-align: middle;\n",
       "    }\n",
       "\n",
       "    .dataframe tbody tr th {\n",
       "        vertical-align: top;\n",
       "    }\n",
       "\n",
       "    .dataframe thead th {\n",
       "        text-align: right;\n",
       "    }\n",
       "</style>\n",
       "<table border=\"1\" class=\"dataframe\">\n",
       "  <thead>\n",
       "    <tr style=\"text-align: right;\">\n",
       "      <th>sysuser</th>\n",
       "      <th>1</th>\n",
       "      <th>2</th>\n",
       "      <th>3</th>\n",
       "      <th>4</th>\n",
       "      <th>5</th>\n",
       "      <th>6</th>\n",
       "      <th>7</th>\n",
       "    </tr>\n",
       "  </thead>\n",
       "  <tbody>\n",
       "    <tr>\n",
       "      <th>name</th>\n",
       "      <td>Dra. Ana Paula Lorenti</td>\n",
       "      <td>Dr. Carlos Santana</td>\n",
       "      <td>Dra. Manuela Gonçalves</td>\n",
       "      <td>Dr. Luiz Miguel Pires</td>\n",
       "      <td>Sr. Pietro Cardoso</td>\n",
       "      <td>Sr. Vitor Gabriel Novaes</td>\n",
       "      <td>Dr. Gustavo Porto</td>\n",
       "    </tr>\n",
       "  </tbody>\n",
       "</table>\n",
       "</div>"
      ],
      "text/plain": [
       "sysuser                       1                   2                       3  \\\n",
       "name     Dra. Ana Paula Lorenti  Dr. Carlos Santana  Dra. Manuela Gonçalves   \n",
       "\n",
       "sysuser                      4                   5                         6  \\\n",
       "name     Dr. Luiz Miguel Pires  Sr. Pietro Cardoso  Sr. Vitor Gabriel Novaes   \n",
       "\n",
       "sysuser                  7  \n",
       "name     Dr. Gustavo Porto  "
      ]
     },
     "execution_count": 11,
     "metadata": {},
     "output_type": "execute_result"
    }
   ],
   "source": [
    "# Tratamento 'physician_id'\n",
    "df_physician = pd.read_csv('desafio-base2-output/physician_names.csv', index_col=[\"sysuser\"])\n",
    "df_physician.head(7).T\n",
    "# Foi visto que o id varia de 1 - 8"
   ]
  },
  {
   "cell_type": "code",
   "execution_count": 19,
   "metadata": {},
   "outputs": [],
   "source": [
    "# Tratamento 'physician_id'\n",
    "df['physician_id'] = [ i if i != 0 else np.nan for i in df['physician_id'].astype(int)]\n",
    "# df['physician_id'].value_counts(dropna=False)\n",
    "df = df.dropna(subset = ['physician_id'])"
   ]
  },
  {
   "cell_type": "code",
   "execution_count": 13,
   "metadata": {},
   "outputs": [],
   "source": [
    "# Tratamento 'healthinsurance_name'\n",
    "df_patient['healthinsurance_pack'] = df_patient['healthinsurance_pack'].str.extract(r'\"name\":\"(.*?)\"')[0].values"
   ]
  },
  {
   "cell_type": "code",
   "execution_count": 14,
   "metadata": {},
   "outputs": [],
   "source": [
    "# Tratamento 'healthinsurance_name'\n",
    "df['healthinsurance_name'] = [ df_patient['healthinsurance_pack'][i] for i in df['patient_id'] ]"
   ]
  },
  {
   "cell_type": "code",
   "execution_count": 15,
   "metadata": {},
   "outputs": [],
   "source": [
    "# Exportando a coluna 'eventprocedure_pack' no formato json desejado\n",
    "df['eventprocedure_pack'] = 'json::[\\\\n\\\\t{\\\\n\\\\t\\\\t\"name\":\"'+df['eventprocedure_pack']+'\"\\\\n\\\\t}\\\\n]'"
   ]
  },
  {
   "cell_type": "code",
   "execution_count": 16,
   "metadata": {},
   "outputs": [],
   "source": [
    "df[\"description\"] = '\"'+df[\"description\"]+'\"'"
   ]
  },
  {
   "cell_type": "code",
   "execution_count": 21,
   "metadata": {},
   "outputs": [],
   "source": [
    "df = df.dropna(subset = ['date'])"
   ]
  },
  {
   "cell_type": "code",
   "execution_count": 17,
   "metadata": {},
   "outputs": [],
   "source": [
    "df = df.loc[:, [\"patient_id\",\"patient_name\",\"physician_id\",\"date\",\"status\",\"patient_home_phone\",\"patient_mobile_phone\",\"arrival_time\",\"start_time\",\"end_time\",\"description\",\"all_day\",\"cancel_reason\",\"patient_email\",\"event_blocked_scheduling\",\"healthinsurance_name\",\"eventprocedure_pack\"]]"
   ]
  },
  {
   "cell_type": "code",
   "execution_count": 22,
   "metadata": {},
   "outputs": [],
   "source": [
    "df.to_csv('desafio-base2-output/event_scheduling.csv',index=False, encoding='utf-8')"
   ]
  }
 ],
 "metadata": {
  "interpreter": {
   "hash": "efaa2df0126d1cfe86bc807cae229c90ce095cf51fbc3c4f46172a2e305a7932"
  },
  "kernelspec": {
   "display_name": "Python 3.8.10 ('venv': venv)",
   "language": "python",
   "name": "python3"
  },
  "language_info": {
   "codemirror_mode": {
    "name": "ipython",
    "version": 3
   },
   "file_extension": ".py",
   "mimetype": "text/x-python",
   "name": "python",
   "nbconvert_exporter": "python",
   "pygments_lexer": "ipython3",
   "version": "3.8.10"
  },
  "orig_nbformat": 4
 },
 "nbformat": 4,
 "nbformat_minor": 2
}
