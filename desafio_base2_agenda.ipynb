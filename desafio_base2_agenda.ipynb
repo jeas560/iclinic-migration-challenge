{
 "cells": [
  {
   "cell_type": "code",
   "execution_count": 1,
   "metadata": {},
   "outputs": [],
   "source": [
    "import numpy as np\n",
    "import pandas as pd\n",
    "\n",
    "import decouple\n",
    "import sqlalchemy"
   ]
  },
  {
   "cell_type": "code",
   "execution_count": 2,
   "metadata": {},
   "outputs": [],
   "source": [
    "#Using enviroment variables for security\n",
    "user = decouple.config(\"db_user_mysql\")\n",
    "host = decouple.config('db_host_mysql')\n",
    "password = decouple.config('db_password_mysql')\n",
    "database = decouple.config(\"db_database_mysql\")\n",
    "connection = sqlalchemy.create_engine(\"mysql+mysqldb://\"+user+\":\"+password+\"@\"+host+\"/\"+database)\n",
    "# sudo apt-get install libmysqlclient-dev"
   ]
  },
  {
   "cell_type": "code",
   "execution_count": 6,
   "metadata": {},
   "outputs": [
    {
     "data": {
      "text/html": [
       "<div>\n",
       "<style scoped>\n",
       "    .dataframe tbody tr th:only-of-type {\n",
       "        vertical-align: middle;\n",
       "    }\n",
       "\n",
       "    .dataframe tbody tr th {\n",
       "        vertical-align: top;\n",
       "    }\n",
       "\n",
       "    .dataframe thead th {\n",
       "        text-align: right;\n",
       "    }\n",
       "</style>\n",
       "<table border=\"1\" class=\"dataframe\">\n",
       "  <thead>\n",
       "    <tr style=\"text-align: right;\">\n",
       "      <th></th>\n",
       "      <th>0</th>\n",
       "      <th>1</th>\n",
       "      <th>2</th>\n",
       "      <th>3</th>\n",
       "      <th>4</th>\n",
       "    </tr>\n",
       "  </thead>\n",
       "  <tbody>\n",
       "    <tr>\n",
       "      <th>counter</th>\n",
       "      <td>1</td>\n",
       "      <td>2</td>\n",
       "      <td>3</td>\n",
       "      <td>4</td>\n",
       "      <td>5</td>\n",
       "    </tr>\n",
       "    <tr>\n",
       "      <th>paciente</th>\n",
       "      <td>356.0</td>\n",
       "      <td>317.0</td>\n",
       "      <td>188.0</td>\n",
       "      <td>53.0</td>\n",
       "      <td>175.0</td>\n",
       "    </tr>\n",
       "    <tr>\n",
       "      <th>nometexto</th>\n",
       "      <td>Pedido exame</td>\n",
       "      <td>Pedido exame</td>\n",
       "      <td>Atestado</td>\n",
       "      <td>Pedido exame</td>\n",
       "      <td>Atestado</td>\n",
       "    </tr>\n",
       "    <tr>\n",
       "      <th>texto</th>\n",
       "      <td>&lt;h2&gt;Requisição de exames&lt;/h2&gt;\\n&lt;br/&gt;\\n&lt;p&gt;&amp;nbsp...</td>\n",
       "      <td>&lt;h2&gt;Requisição de exames&lt;/h2&gt;\\n&lt;br/&gt;\\n&lt;p&gt;&amp;nbsp...</td>\n",
       "      <td>&lt;h2&gt;Atestado por Acidente de Trabalho&lt;/h2&gt;\\n&lt;b...</td>\n",
       "      <td>&lt;h2&gt;Requisição de exames&lt;/h2&gt;\\n&lt;br/&gt;\\n&lt;p&gt;&amp;nbsp...</td>\n",
       "      <td>&lt;h2&gt;Atestado de Sanidade Física e Mental&lt;/h2&gt;\\...</td>\n",
       "    </tr>\n",
       "    <tr>\n",
       "      <th>datatexto</th>\n",
       "      <td>2016-07-03 09:41:03</td>\n",
       "      <td>2016-07-06 18:53:30</td>\n",
       "      <td>2016-07-09 16:31:48</td>\n",
       "      <td>2016-07-12 20:47:14</td>\n",
       "      <td>2016-07-19 06:10:31</td>\n",
       "    </tr>\n",
       "    <tr>\n",
       "      <th>timestamp</th>\n",
       "      <td>2021-07-01 18:06:19</td>\n",
       "      <td>2021-07-01 18:06:19</td>\n",
       "      <td>2021-07-01 18:06:19</td>\n",
       "      <td>2021-07-01 18:06:19</td>\n",
       "      <td>2021-07-01 18:06:19</td>\n",
       "    </tr>\n",
       "    <tr>\n",
       "      <th>cloud</th>\n",
       "      <td>1</td>\n",
       "      <td>0</td>\n",
       "      <td>0</td>\n",
       "      <td>1</td>\n",
       "      <td>1</td>\n",
       "    </tr>\n",
       "    <tr>\n",
       "      <th>update001</th>\n",
       "      <td>2021-05-18 12:51:57</td>\n",
       "      <td>2021-02-14 22:10:44</td>\n",
       "      <td>2021-05-24 20:12:22</td>\n",
       "      <td>2021-04-15 05:15:22</td>\n",
       "      <td>2020-11-24 20:06:14</td>\n",
       "    </tr>\n",
       "    <tr>\n",
       "      <th>ch3</th>\n",
       "      <td>1</td>\n",
       "      <td>1</td>\n",
       "      <td>1</td>\n",
       "      <td>1</td>\n",
       "      <td>1</td>\n",
       "    </tr>\n",
       "    <tr>\n",
       "      <th>sysuser</th>\n",
       "      <td>5</td>\n",
       "      <td>5</td>\n",
       "      <td>6</td>\n",
       "      <td>2</td>\n",
       "      <td>7</td>\n",
       "    </tr>\n",
       "  </tbody>\n",
       "</table>\n",
       "</div>"
      ],
      "text/plain": [
       "                                                           0  \\\n",
       "counter                                                    1   \n",
       "paciente                                               356.0   \n",
       "nometexto                                       Pedido exame   \n",
       "texto      <h2>Requisição de exames</h2>\\n<br/>\\n<p>&nbsp...   \n",
       "datatexto                                2016-07-03 09:41:03   \n",
       "timestamp                                2021-07-01 18:06:19   \n",
       "cloud                                                      1   \n",
       "update001                                2021-05-18 12:51:57   \n",
       "ch3                                                        1   \n",
       "sysuser                                                    5   \n",
       "\n",
       "                                                           1  \\\n",
       "counter                                                    2   \n",
       "paciente                                               317.0   \n",
       "nometexto                                       Pedido exame   \n",
       "texto      <h2>Requisição de exames</h2>\\n<br/>\\n<p>&nbsp...   \n",
       "datatexto                                2016-07-06 18:53:30   \n",
       "timestamp                                2021-07-01 18:06:19   \n",
       "cloud                                                      0   \n",
       "update001                                2021-02-14 22:10:44   \n",
       "ch3                                                        1   \n",
       "sysuser                                                    5   \n",
       "\n",
       "                                                           2  \\\n",
       "counter                                                    3   \n",
       "paciente                                               188.0   \n",
       "nometexto                                           Atestado   \n",
       "texto      <h2>Atestado por Acidente de Trabalho</h2>\\n<b...   \n",
       "datatexto                                2016-07-09 16:31:48   \n",
       "timestamp                                2021-07-01 18:06:19   \n",
       "cloud                                                      0   \n",
       "update001                                2021-05-24 20:12:22   \n",
       "ch3                                                        1   \n",
       "sysuser                                                    6   \n",
       "\n",
       "                                                           3  \\\n",
       "counter                                                    4   \n",
       "paciente                                                53.0   \n",
       "nometexto                                       Pedido exame   \n",
       "texto      <h2>Requisição de exames</h2>\\n<br/>\\n<p>&nbsp...   \n",
       "datatexto                                2016-07-12 20:47:14   \n",
       "timestamp                                2021-07-01 18:06:19   \n",
       "cloud                                                      1   \n",
       "update001                                2021-04-15 05:15:22   \n",
       "ch3                                                        1   \n",
       "sysuser                                                    2   \n",
       "\n",
       "                                                           4  \n",
       "counter                                                    5  \n",
       "paciente                                               175.0  \n",
       "nometexto                                           Atestado  \n",
       "texto      <h2>Atestado de Sanidade Física e Mental</h2>\\...  \n",
       "datatexto                                2016-07-19 06:10:31  \n",
       "timestamp                                2021-07-01 18:06:19  \n",
       "cloud                                                      1  \n",
       "update001                                2020-11-24 20:06:14  \n",
       "ch3                                                        1  \n",
       "sysuser                                                    7  "
      ]
     },
     "execution_count": 6,
     "metadata": {},
     "output_type": "execute_result"
    }
   ],
   "source": [
    "df = pd.read_sql_table('text04', con = connection)\n",
    "df.head(5).T"
   ]
  },
  {
   "cell_type": "code",
   "execution_count": 5,
   "metadata": {},
   "outputs": [
    {
     "name": "stdout",
     "output_type": "stream",
     "text": [
      "<class 'pandas.core.frame.DataFrame'>\n",
      "RangeIndex: 350 entries, 0 to 349\n",
      "Data columns (total 10 columns):\n",
      " #   Column     Non-Null Count  Dtype         \n",
      "---  ------     --------------  -----         \n",
      " 0   counter    350 non-null    int64         \n",
      " 1   paciente   349 non-null    float64       \n",
      " 2   nometexto  350 non-null    object        \n",
      " 3   texto      350 non-null    object        \n",
      " 4   datatexto  350 non-null    datetime64[ns]\n",
      " 5   timestamp  350 non-null    datetime64[ns]\n",
      " 6   cloud      350 non-null    int64         \n",
      " 7   update001  350 non-null    datetime64[ns]\n",
      " 8   ch3        350 non-null    int64         \n",
      " 9   sysuser    350 non-null    int64         \n",
      "dtypes: datetime64[ns](3), float64(1), int64(4), object(2)\n",
      "memory usage: 27.5+ KB\n"
     ]
    }
   ],
   "source": [
    "df.info()"
   ]
  },
  {
   "cell_type": "code",
   "execution_count": 5,
   "metadata": {},
   "outputs": [],
   "source": [
    "# Colocando o nome das colunas do arquivo de acordo a documentação da iClinic\n",
    "df = df.rename(\n",
    "    columns = {\n",
    "        \"paciente\":\"patient_id\",\n",
    "        \"sysuser\": \"physician_id\",\n",
    "        \"nometexto\": \"eventprocedure_pack\", #tratar depois\n",
    "        \"texto\": \"description\",\n",
    "        \"datatexto\": \"date\",\n",
    "        \"timestamp\": \"start_time\",\n",
    "        \"update001\": \"end_time\",\n",
    "    }\n",
    ")"
   ]
  },
  {
   "cell_type": "code",
   "execution_count": 6,
   "metadata": {},
   "outputs": [],
   "source": [
    "df['status'] = \"cp\"\n",
    "df['patient_mobile_phone'] = np.nan\n",
    "df['arrival_time'] = np.nan\n",
    "df['all_day'] = np.nan\n",
    "df['cancel_reason'] = np.nan\n",
    "df['event_blocked_scheduling'] = np.nan\n",
    "\n",
    "#tratar depois\n",
    "# df['patient_name'] = \n",
    "# df['patient_home_phone'] =\n",
    "# df['patient_email'] =\n",
    "# df['healthinsurance_name'] ="
   ]
  },
  {
   "cell_type": "code",
   "execution_count": null,
   "metadata": {},
   "outputs": [],
   "source": [
    "df['eventprocedure_pack'] = 'json::[\\\\n\\\\t{\\\\n\\\\t\\\\t\"name\":\"'+df['eventprocedure_pack']+'\"\\\\n\\\\t}\\\\n]'"
   ]
  },
  {
   "cell_type": "code",
   "execution_count": 7,
   "metadata": {},
   "outputs": [],
   "source": [
    "# Tratamento 'birth_date'\n",
    "# Não tem valores nulos\n",
    "df['birth_date'] = pd.to_datetime(df['birth_date'],format='%Y%m%d').dt.date"
   ]
  },
  {
   "cell_type": "code",
   "execution_count": 8,
   "metadata": {},
   "outputs": [],
   "source": [
    "# Tratamento 'gender'\n",
    "# Não tem valores nulos\n",
    "df['gender'] = ['m' if x == 'M' else 'f' if x == 'F' else np.nan for x in df['gender']]\n",
    "# print(df['gender'].value_counts())"
   ]
  },
  {
   "cell_type": "code",
   "execution_count": 9,
   "metadata": {},
   "outputs": [],
   "source": [
    "# Tratamento 'mobile_phone'\n",
    "# Não tem valores nulos\n",
    "rows_t = df['mobile_phone'].astype('str').str.extractall('(\\d+)').unstack().fillna('').sum(axis=1).astype(int).astype('str')\n",
    "# print(rows_t)\n",
    "# print(rows_t.str.len().value_counts())\n",
    "# como só tenho numeros de telefone a partir de 10 digitos, então o tipo de telefone mais adequado é o 'home_phone' por acreditar que é o padrão dos pacientes\n",
    "df['home_phone'] = '(' + rows_t.str[-10:-8] + ')' + rows_t.str[-8:-4] + '-' + rows_t.str[-4:]\n",
    "df['mobile_phone'] = np.nan"
   ]
  },
  {
   "cell_type": "code",
   "execution_count": 10,
   "metadata": {},
   "outputs": [],
   "source": [
    "# Tratamento 'zip_code'\n",
    "# Não tem valores nulos\n",
    "rows_with_dashes = df['zip_code'].str.contains('-')\n",
    "# print(rows_with_dashes.value_counts())\n",
    "# tem valores contendo '-'\n",
    "df['zip_code'] = [df['zip_code'][i] if x == True else df['zip_code'][i][:5]+'-'+df['zip_code'][i][5:] if x == False else np.nan for i, x in enumerate(rows_with_dashes)]"
   ]
  },
  {
   "cell_type": "code",
   "execution_count": 11,
   "metadata": {},
   "outputs": [],
   "source": [
    "# Tratamento 'address'\n",
    "# Não tem valores nulos\n",
    "# Separando as informações e distribuindo de acordo ao seu tipo\n",
    "# print(df['address'])\n",
    "row_with_adress = df['address'].str.split(',')\n",
    "# print(row_with_adress.str.len().value_counts())\n",
    "# existem linhas contrando 1 e dois valores apenas\n",
    "df['number'] = [np.nan if len(x) == 1 else x[1].strip() for x in row_with_adress]\n",
    "df['address'] = [x[0].strip() for x in row_with_adress]"
   ]
  },
  {
   "cell_type": "code",
   "execution_count": 12,
   "metadata": {},
   "outputs": [],
   "source": [
    "# Tratamento 'ethnicity'\n",
    "# Não tem valores nulos\n",
    "# print(df['ethnicity'].value_counts())\n",
    "df['ethnicity'] = df['ethnicity'].replace({'Branco': 'wh', 'Amarelo': 'ye', 'Pardo': 'br','Preto': 'bl'})"
   ]
  },
  {
   "cell_type": "code",
   "execution_count": 13,
   "metadata": {},
   "outputs": [],
   "source": [
    "# Tratamento 'marital_status'\n",
    "# Não tem valores nulos\n",
    "# print(df['marital_status'].value_counts())\n",
    "df['marital_status'] = df['marital_status'].replace({'S': 'si', 'C': 'ma', 'O': 'st', 'V': 'wi','D': 'se'})\n",
    "# acima foi considerada a sigla \"O\" como união estável"
   ]
  },
  {
   "cell_type": "code",
   "execution_count": 14,
   "metadata": {},
   "outputs": [],
   "source": [
    "# Tratamento 'education'\n",
    "# Não tem valores nulos\n",
    "# print(df['education'].value_counts())\n",
    "df['education'] = df['education'].replace({'Ensino Médio': 's', 'Superior': 'h', 'Pós-graduação': 'p', 'Especialização': 'p'})\n",
    "# acima foi considerada a sigla \"Pós-graduação\" e \"Especialização\" como 'p', já que não tem nada para específicar se a pós gradução é lato sensu ou se não foi informado ter sido mestrado"
   ]
  },
  {
   "cell_type": "code",
   "execution_count": 15,
   "metadata": {},
   "outputs": [],
   "source": [
    "# Tratamento 'indication'\n",
    "# Todos os valores são nulos\n",
    "df['indication']= 'ot'"
   ]
  },
  {
   "cell_type": "code",
   "execution_count": 16,
   "metadata": {},
   "outputs": [],
   "source": [
    "# Tratamento 'active'\n",
    "# Não tem valores nulos\n",
    "# print(df['active'].value_counts())\n",
    "df['active'] = df['active'].replace({0: 1, 1: 0})\n",
    "# df['active'] = df['active'].astype(np.dtype(bool))"
   ]
  },
  {
   "cell_type": "code",
   "execution_count": 17,
   "metadata": {},
   "outputs": [],
   "source": [
    "# Tratamento 'picture_filename'\n",
    "df['picture_filename'] = df['picture_filename'].replace({'NONE': np.nan})\n",
    "df['picture_filename'] = df['picture_filename'].fillna(np.nan)\n",
    "# print(df['picture_filename'])"
   ]
  },
  {
   "cell_type": "code",
   "execution_count": 18,
   "metadata": {},
   "outputs": [],
   "source": [
    "# abaixo estamos removendo os valores que não representam um endereço na pasta 'extra/'\n",
    "rows_begining_with_extra = df['picture_filename'].str.contains(r'^extra')\n",
    "df['picture_filename'] = [df['picture_filename'][i][6:] if x == True else 'None' for i, x in enumerate(rows_begining_with_extra)]"
   ]
  },
  {
   "cell_type": "code",
   "execution_count": 20,
   "metadata": {},
   "outputs": [],
   "source": [
    "df['picture_filename'] = ['picture/'+df['picture_filename'][i] if x == True else 'None' for i, x in enumerate(rows_begining_with_extra)]\n",
    "# os arquivos de foto do paciente devem ser armazenados junto com os arquivos CSV, na subpasta “picture”."
   ]
  },
  {
   "cell_type": "code",
   "execution_count": 21,
   "metadata": {},
   "outputs": [],
   "source": [
    "# Tratamento 'healthinsurance_pack'\n",
    "df['healthinsurance_pack'] = df['healthinsurance_pack'].replace({np.nan: 0})\n",
    "df['healthinsurance_pack'] = df['healthinsurance_pack'].astype(int)\n",
    "df['healthinsurance_pack'] = [x if x <= 35 else 0 for x in df['healthinsurance_pack'] ]\n",
    "# print(df['healthinsurance_pack'].values)"
   ]
  },
  {
   "cell_type": "code",
   "execution_count": 22,
   "metadata": {},
   "outputs": [
    {
     "data": {
      "text/html": [
       "<div>\n",
       "<style scoped>\n",
       "    .dataframe tbody tr th:only-of-type {\n",
       "        vertical-align: middle;\n",
       "    }\n",
       "\n",
       "    .dataframe tbody tr th {\n",
       "        vertical-align: top;\n",
       "    }\n",
       "\n",
       "    .dataframe thead th {\n",
       "        text-align: right;\n",
       "    }\n",
       "</style>\n",
       "<table border=\"1\" class=\"dataframe\">\n",
       "  <thead>\n",
       "    <tr style=\"text-align: right;\">\n",
       "      <th>plan</th>\n",
       "      <th>1</th>\n",
       "      <th>2</th>\n",
       "      <th>3</th>\n",
       "      <th>4</th>\n",
       "      <th>5</th>\n",
       "      <th>6</th>\n",
       "      <th>7</th>\n",
       "    </tr>\n",
       "  </thead>\n",
       "  <tbody>\n",
       "    <tr>\n",
       "      <th>code</th>\n",
       "      <td>9118087</td>\n",
       "      <td>518103</td>\n",
       "      <td>1377066</td>\n",
       "      <td>3346654</td>\n",
       "      <td>429694</td>\n",
       "      <td>1561209</td>\n",
       "      <td>2031645</td>\n",
       "    </tr>\n",
       "    <tr>\n",
       "      <th>name</th>\n",
       "      <td>Unimed</td>\n",
       "      <td>Bradesco</td>\n",
       "      <td>Amil</td>\n",
       "      <td>NotreDame</td>\n",
       "      <td>Porto Seguro</td>\n",
       "      <td>SulAmérica</td>\n",
       "      <td>Allianz</td>\n",
       "    </tr>\n",
       "    <tr>\n",
       "      <th>account</th>\n",
       "      <td>9823</td>\n",
       "      <td>6813</td>\n",
       "      <td>5061</td>\n",
       "      <td>4479</td>\n",
       "      <td>4058</td>\n",
       "      <td>9954</td>\n",
       "      <td>2695</td>\n",
       "    </tr>\n",
       "    <tr>\n",
       "      <th>billsenddayinternal</th>\n",
       "      <td>1</td>\n",
       "      <td>20</td>\n",
       "      <td>21</td>\n",
       "      <td>25</td>\n",
       "      <td>1</td>\n",
       "      <td>13</td>\n",
       "      <td>12</td>\n",
       "    </tr>\n",
       "    <tr>\n",
       "      <th>returndaysexternal</th>\n",
       "      <td>20</td>\n",
       "      <td>21</td>\n",
       "      <td>25</td>\n",
       "      <td>29</td>\n",
       "      <td>29</td>\n",
       "      <td>21</td>\n",
       "      <td>22</td>\n",
       "    </tr>\n",
       "  </tbody>\n",
       "</table>\n",
       "</div>"
      ],
      "text/plain": [
       "plan                       1         2        3          4             5  \\\n",
       "code                 9118087    518103  1377066    3346654        429694   \n",
       "name                  Unimed  Bradesco     Amil  NotreDame  Porto Seguro   \n",
       "account                 9823      6813     5061       4479          4058   \n",
       "billsenddayinternal        1        20       21         25             1   \n",
       "returndaysexternal        20        21       25         29            29   \n",
       "\n",
       "plan                          6        7  \n",
       "code                    1561209  2031645  \n",
       "name                 SulAmérica  Allianz  \n",
       "account                    9954     2695  \n",
       "billsenddayinternal          13       12  \n",
       "returndaysexternal           21       22  "
      ]
     },
     "execution_count": 22,
     "metadata": {},
     "output_type": "execute_result"
    }
   ],
   "source": [
    "df_planos = pd.read_csv('desafio-base2-output/planos.csv',index_col = \"plan\")\n",
    "df_planos.head(7).T"
   ]
  },
  {
   "cell_type": "code",
   "execution_count": 23,
   "metadata": {},
   "outputs": [],
   "source": [
    "# Neste caso, como o 'healthinsurance_pack' inicia com 1 e está ordenada é fácil de encontrar seu nome correspondente\n",
    "index = df['healthinsurance_pack'].values\n",
    "# print(index)\n",
    "df['healthinsurance_pack_name'] = [ df_planos['name'][i] if i != 0 else np.nan for i in index ]\n",
    "df['healthinsurance_pack_code'] = [ df_planos['code'][i].astype(int).astype(str) if i != 0 else np.nan for i in index ]\n",
    "\n",
    "# print(df['healthinsurance_pack_name'])"
   ]
  },
  {
   "cell_type": "code",
   "execution_count": 24,
   "metadata": {},
   "outputs": [],
   "source": [
    "df['healthinsurance_pack'] = 'json::[\\\\n\\\\t{\\\\n\\\\t\\\\t\"name\":\"'+df['healthinsurance_pack_name']+'\",\\\\n\\\\t\\\\t\"code\":\"'+df['healthinsurance_pack_code']+'\"\\\\n\\\\t}\\\\n]'"
   ]
  },
  {
   "cell_type": "code",
   "execution_count": 25,
   "metadata": {},
   "outputs": [],
   "source": [
    "df = df.loc[:, [\"patient_id\",\"patient_name\",\"physician_id\",\"date\",\"status\",\"patient_home_phone\",\"patient_mobile_phone\",\"arrival_time\",\"start_time\",\"end_time\",\"description\",\"all_day\",\"cancel_reason\",\"patient_email\",\"event_blocked_scheduling\",\"healthinsurance_name\",\"eventprocedure_pack\"]]"
   ]
  },
  {
   "cell_type": "code",
   "execution_count": 26,
   "metadata": {},
   "outputs": [],
   "source": [
    "df.to_csv('desafio-base2-output/event_scheduling.csv',index=False, encoding='utf-8')"
   ]
  }
 ],
 "metadata": {
  "interpreter": {
   "hash": "efaa2df0126d1cfe86bc807cae229c90ce095cf51fbc3c4f46172a2e305a7932"
  },
  "kernelspec": {
   "display_name": "Python 3.8.10 ('venv': venv)",
   "language": "python",
   "name": "python3"
  },
  "language_info": {
   "codemirror_mode": {
    "name": "ipython",
    "version": 3
   },
   "file_extension": ".py",
   "mimetype": "text/x-python",
   "name": "python",
   "nbconvert_exporter": "python",
   "pygments_lexer": "ipython3",
   "version": "3.8.10"
  },
  "orig_nbformat": 4
 },
 "nbformat": 4,
 "nbformat_minor": 2
}
