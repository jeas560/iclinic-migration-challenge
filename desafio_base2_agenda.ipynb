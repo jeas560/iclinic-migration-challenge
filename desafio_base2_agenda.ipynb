{
 "cells": [
  {
   "cell_type": "markdown",
   "metadata": {},
   "source": [
    "## Tratamento da tabela 'text04'\n",
    "\n",
    "Neste caderno será apresentada a exploração inicial e tratamento dos dados da tabela 'text04'."
   ]
  },
  {
   "cell_type": "markdown",
   "metadata": {},
   "source": [
    "### Importação das bibliotecas\n",
    " \n",
    "A seguir uma breve apresentação de cada biblioteca que será utilizada:\n",
    "\n",
    "- A biblioteca [NumPy](https://numpy.org/) é fundamental para qualquer tipo de computação científica em Python\n",
    "- A biblioteca [pandas](https://pandas.pydata.org/) é a nossa ferramenta pricipal para análise e manipulação de dados\n",
    "- A biblioteca [python-decouple](https://github.com/henriquebastos/python-decouple) auxiliar para trabalhar com variaveis de ambiente\n",
    "- A biblioteca [SQLAlchemy](https://www.sqlalchemy.org/) é uma biblioteca de mapeamento objeto-relacional SQL"
   ]
  },
  {
   "cell_type": "code",
   "execution_count": 1,
   "metadata": {},
   "outputs": [],
   "source": [
    "import numpy as np\n",
    "import pandas as pd\n",
    "\n",
    "import decouple\n",
    "import sqlalchemy\n",
    "\n",
    "import re"
   ]
  },
  {
   "cell_type": "markdown",
   "metadata": {},
   "source": [
    "### Leitura e tratamento inicial dos dados de entrada\n",
    "\n",
    "Para poder realizar a conexão com o banco de dados `SQL`, precisaremos de algumas informações que estão armazenadas no arquivo `.env` e quer serão importadas através da biblioteca `decouple`, como a seguir:"
   ]
  },
  {
   "cell_type": "code",
   "execution_count": 2,
   "metadata": {},
   "outputs": [],
   "source": [
    "user = decouple.config(\"db_user_mysql\")\n",
    "host = decouple.config('db_host_mysql')\n",
    "password = decouple.config('db_password_mysql')\n",
    "database = decouple.config(\"db_database_mysql\")"
   ]
  },
  {
   "cell_type": "markdown",
   "metadata": {},
   "source": [
    "Através da biblioteca `sqlalchemy` será criado o objeto [Engine](https://docs.sqlalchemy.org/en/14/core/connections.html#sqlalchemy.engine.Engine) que é baseado na URL do banco de dados."
   ]
  },
  {
   "cell_type": "code",
   "execution_count": 3,
   "metadata": {},
   "outputs": [],
   "source": [
    "connection = sqlalchemy.create_engine(\"mysql+mysqldb://\"+user+\":\"+password+\"@\"+host+\"/\"+database)"
   ]
  },
  {
   "cell_type": "markdown",
   "metadata": {},
   "source": [
    "Será necessário instalar o pacote cujo nome para instalação no Ubuntu 20.04 é `libmysqlclient-dev` para utilizar o driver `mysqldb`, caso não esteja instalado.\n",
    "\n",
    "Em seguida, através da biblioteca `pandas` é realizada a importação da tabela 'plan02' utilizando a função `read_sql_table()`, onde o parâmetro `con = connection` é o objeto `engine` criado na célula anterior."
   ]
  },
  {
   "cell_type": "code",
   "execution_count": 4,
   "metadata": {},
   "outputs": [],
   "source": [
    "df = pd.read_sql_table('text04', con = connection)"
   ]
  },
  {
   "cell_type": "markdown",
   "metadata": {},
   "source": [
    "### Visualização dos dados\n",
    "\n",
    "Nas próximas duas células é realizada a visualização inicial dos dados.\n",
    "\n",
    "Usando o método `head()` do `pandas` com um argumento `4` nele é possível visualizar os primeiros `4` registros do Dataframe.\n",
    "    \n",
    "O `.T` significa `Transposição`, desta forma as linhas serão visualizadas como colunas e vice-versa."
   ]
  },
  {
   "cell_type": "code",
   "execution_count": 5,
   "metadata": {},
   "outputs": [
    {
     "data": {
      "text/html": [
       "<div>\n",
       "<style scoped>\n",
       "    .dataframe tbody tr th:only-of-type {\n",
       "        vertical-align: middle;\n",
       "    }\n",
       "\n",
       "    .dataframe tbody tr th {\n",
       "        vertical-align: top;\n",
       "    }\n",
       "\n",
       "    .dataframe thead th {\n",
       "        text-align: right;\n",
       "    }\n",
       "</style>\n",
       "<table border=\"1\" class=\"dataframe\">\n",
       "  <thead>\n",
       "    <tr style=\"text-align: right;\">\n",
       "      <th></th>\n",
       "      <th>0</th>\n",
       "      <th>1</th>\n",
       "      <th>2</th>\n",
       "      <th>3</th>\n",
       "    </tr>\n",
       "  </thead>\n",
       "  <tbody>\n",
       "    <tr>\n",
       "      <th>counter</th>\n",
       "      <td>1</td>\n",
       "      <td>2</td>\n",
       "      <td>3</td>\n",
       "      <td>4</td>\n",
       "    </tr>\n",
       "    <tr>\n",
       "      <th>paciente</th>\n",
       "      <td>356.0</td>\n",
       "      <td>317.0</td>\n",
       "      <td>188.0</td>\n",
       "      <td>53.0</td>\n",
       "    </tr>\n",
       "    <tr>\n",
       "      <th>nometexto</th>\n",
       "      <td>Pedido exame</td>\n",
       "      <td>Pedido exame</td>\n",
       "      <td>Atestado</td>\n",
       "      <td>Pedido exame</td>\n",
       "    </tr>\n",
       "    <tr>\n",
       "      <th>texto</th>\n",
       "      <td>&lt;h2&gt;Requisição de exames&lt;/h2&gt;\\n&lt;br/&gt;\\n&lt;p&gt;&amp;nbsp...</td>\n",
       "      <td>&lt;h2&gt;Requisição de exames&lt;/h2&gt;\\n&lt;br/&gt;\\n&lt;p&gt;&amp;nbsp...</td>\n",
       "      <td>&lt;h2&gt;Atestado por Acidente de Trabalho&lt;/h2&gt;\\n&lt;b...</td>\n",
       "      <td>&lt;h2&gt;Requisição de exames&lt;/h2&gt;\\n&lt;br/&gt;\\n&lt;p&gt;&amp;nbsp...</td>\n",
       "    </tr>\n",
       "    <tr>\n",
       "      <th>datatexto</th>\n",
       "      <td>2016-07-03 09:41:03</td>\n",
       "      <td>2016-07-06 18:53:30</td>\n",
       "      <td>2016-07-09 16:31:48</td>\n",
       "      <td>2016-07-12 20:47:14</td>\n",
       "    </tr>\n",
       "    <tr>\n",
       "      <th>timestamp</th>\n",
       "      <td>2021-07-01 18:06:19</td>\n",
       "      <td>2021-07-01 18:06:19</td>\n",
       "      <td>2021-07-01 18:06:19</td>\n",
       "      <td>2021-07-01 18:06:19</td>\n",
       "    </tr>\n",
       "    <tr>\n",
       "      <th>cloud</th>\n",
       "      <td>1</td>\n",
       "      <td>0</td>\n",
       "      <td>0</td>\n",
       "      <td>1</td>\n",
       "    </tr>\n",
       "    <tr>\n",
       "      <th>update001</th>\n",
       "      <td>2021-05-18 12:51:57</td>\n",
       "      <td>2021-02-14 22:10:44</td>\n",
       "      <td>2021-05-24 20:12:22</td>\n",
       "      <td>2021-04-15 05:15:22</td>\n",
       "    </tr>\n",
       "    <tr>\n",
       "      <th>ch3</th>\n",
       "      <td>1</td>\n",
       "      <td>1</td>\n",
       "      <td>1</td>\n",
       "      <td>1</td>\n",
       "    </tr>\n",
       "    <tr>\n",
       "      <th>sysuser</th>\n",
       "      <td>5</td>\n",
       "      <td>5</td>\n",
       "      <td>6</td>\n",
       "      <td>2</td>\n",
       "    </tr>\n",
       "  </tbody>\n",
       "</table>\n",
       "</div>"
      ],
      "text/plain": [
       "                                                           0  \\\n",
       "counter                                                    1   \n",
       "paciente                                               356.0   \n",
       "nometexto                                       Pedido exame   \n",
       "texto      <h2>Requisição de exames</h2>\\n<br/>\\n<p>&nbsp...   \n",
       "datatexto                                2016-07-03 09:41:03   \n",
       "timestamp                                2021-07-01 18:06:19   \n",
       "cloud                                                      1   \n",
       "update001                                2021-05-18 12:51:57   \n",
       "ch3                                                        1   \n",
       "sysuser                                                    5   \n",
       "\n",
       "                                                           1  \\\n",
       "counter                                                    2   \n",
       "paciente                                               317.0   \n",
       "nometexto                                       Pedido exame   \n",
       "texto      <h2>Requisição de exames</h2>\\n<br/>\\n<p>&nbsp...   \n",
       "datatexto                                2016-07-06 18:53:30   \n",
       "timestamp                                2021-07-01 18:06:19   \n",
       "cloud                                                      0   \n",
       "update001                                2021-02-14 22:10:44   \n",
       "ch3                                                        1   \n",
       "sysuser                                                    5   \n",
       "\n",
       "                                                           2  \\\n",
       "counter                                                    3   \n",
       "paciente                                               188.0   \n",
       "nometexto                                           Atestado   \n",
       "texto      <h2>Atestado por Acidente de Trabalho</h2>\\n<b...   \n",
       "datatexto                                2016-07-09 16:31:48   \n",
       "timestamp                                2021-07-01 18:06:19   \n",
       "cloud                                                      0   \n",
       "update001                                2021-05-24 20:12:22   \n",
       "ch3                                                        1   \n",
       "sysuser                                                    6   \n",
       "\n",
       "                                                           3  \n",
       "counter                                                    4  \n",
       "paciente                                                53.0  \n",
       "nometexto                                       Pedido exame  \n",
       "texto      <h2>Requisição de exames</h2>\\n<br/>\\n<p>&nbsp...  \n",
       "datatexto                                2016-07-12 20:47:14  \n",
       "timestamp                                2021-07-01 18:06:19  \n",
       "cloud                                                      1  \n",
       "update001                                2021-04-15 05:15:22  \n",
       "ch3                                                        1  \n",
       "sysuser                                                    2  "
      ]
     },
     "execution_count": 5,
     "metadata": {},
     "output_type": "execute_result"
    }
   ],
   "source": [
    "df.head(4).T"
   ]
  },
  {
   "cell_type": "markdown",
   "metadata": {},
   "source": [
    "O método `info()` do `pandas` apresenta um resumo dos dados no Dataframe, uma informação interessante é o tipo de dado de cada recurso."
   ]
  },
  {
   "cell_type": "code",
   "execution_count": 6,
   "metadata": {},
   "outputs": [
    {
     "name": "stdout",
     "output_type": "stream",
     "text": [
      "<class 'pandas.core.frame.DataFrame'>\n",
      "RangeIndex: 350 entries, 0 to 349\n",
      "Data columns (total 10 columns):\n",
      " #   Column     Non-Null Count  Dtype         \n",
      "---  ------     --------------  -----         \n",
      " 0   counter    350 non-null    int64         \n",
      " 1   paciente   349 non-null    float64       \n",
      " 2   nometexto  350 non-null    object        \n",
      " 3   texto      350 non-null    object        \n",
      " 4   datatexto  350 non-null    datetime64[ns]\n",
      " 5   timestamp  350 non-null    datetime64[ns]\n",
      " 6   cloud      350 non-null    int64         \n",
      " 7   update001  350 non-null    datetime64[ns]\n",
      " 8   ch3        350 non-null    int64         \n",
      " 9   sysuser    350 non-null    int64         \n",
      "dtypes: datetime64[ns](3), float64(1), int64(4), object(2)\n",
      "memory usage: 27.5+ KB\n"
     ]
    }
   ],
   "source": [
    "df.info()"
   ]
  },
  {
   "cell_type": "markdown",
   "metadata": {},
   "source": [
    "## Limpeza e tratamento dos dados\n",
    "\n",
    "A seguir será realizada a limpeza e tratamento dos dados.\n",
    "\n",
    "### Valores ausentes, valores equivalentes e tratamento inicial\n",
    "\n",
    "Quando utilizamos o método `info()` para ver o resumo dos dados, foi possível ver que muitas colunas tinham muitos dados ausentes, entrentanto, na documentação da iClinic é possível ver que os campos `patient_birth_date`, `patient_name`, `physician_id` e `date` são obrigatórios e no Dataset anterior as colunas `sysuser` e `datatexto` são seus equivalentes, ainda, nenhuma coluna possui valores nulos nos seus registros, logo, a priori, não será necessário um maior tratamento para cumprir as condições obrigatórias, mas precisaremos obter `patient_birth_date` e `patient_name`.\n",
    "\n",
    "\n",
    "O tratamento de algumas colunas será realizado em seguida, começando com mudança nos nomes das colunas para seus equivalentes no padrão iClinic."
   ]
  },
  {
   "cell_type": "code",
   "execution_count": 7,
   "metadata": {},
   "outputs": [],
   "source": [
    "df = df.rename(\n",
    "    columns = {\n",
    "        \"sysuser\": \"physician_id\",\n",
    "        \"nometexto\": \"eventprocedure_pack\", #tratar depois\n",
    "        \"texto\": \"description\", #tratar depois\n",
    "        \"datatexto\": \"date\",\n",
    "        \"timestamp\": \"start_time\",\n",
    "        \"update001\": \"end_time\",\n",
    "    }\n",
    ")"
   ]
  },
  {
   "cell_type": "markdown",
   "metadata": {},
   "source": [
    "### Adição de recursos ausentes\n",
    "Será realizada a adição de novas colunas que são solicitadas pelo padrão iClinic."
   ]
  },
  {
   "cell_type": "code",
   "execution_count": 8,
   "metadata": {},
   "outputs": [],
   "source": [
    "df['status'] = \"cp\"\n",
    "df['patient_mobile_phone'] = np.nan\n",
    "df['arrival_time'] = np.nan #tratar depois\n",
    "df['all_day'] = np.nan\n",
    "df['cancel_reason'] = np.nan \n",
    "df['event_blocked_scheduling'] = np.nan"
   ]
  },
  {
   "cell_type": "markdown",
   "metadata": {},
   "source": [
    "### Trantamento dos recursos 'patient_name', 'patient_birth_date', 'patient_home_phone' e 'patient_email'\n",
    "\n",
    "Este recurso precisa de informação externa para ser tratado, pelo que importaremos o arquivo \"patient.csv\", mais específicamente as colunas \"patient_code\", \"birth_date\", \"name\", \"home_phone\", \"email\" e \"healthinsurance_pack\"."
   ]
  },
  {
   "cell_type": "code",
   "execution_count": 9,
   "metadata": {},
   "outputs": [],
   "source": [
    "df_patient = pd.read_csv('desafio-base2-output/patient.csv', index_col=[\"patient_code\"], usecols = [\"patient_code\", \"birth_date\",\"name\",\"home_phone\",\"email\",\"healthinsurance_pack\"])"
   ]
  },
  {
   "cell_type": "markdown",
   "metadata": {},
   "source": [
    "Em seguida é realizada a visualização inicial dos dados."
   ]
  },
  {
   "cell_type": "code",
   "execution_count": 10,
   "metadata": {},
   "outputs": [
    {
     "data": {
      "text/html": [
       "<div>\n",
       "<style scoped>\n",
       "    .dataframe tbody tr th:only-of-type {\n",
       "        vertical-align: middle;\n",
       "    }\n",
       "\n",
       "    .dataframe tbody tr th {\n",
       "        vertical-align: top;\n",
       "    }\n",
       "\n",
       "    .dataframe thead th {\n",
       "        text-align: right;\n",
       "    }\n",
       "</style>\n",
       "<table border=\"1\" class=\"dataframe\">\n",
       "  <thead>\n",
       "    <tr style=\"text-align: right;\">\n",
       "      <th>patient_code</th>\n",
       "      <th>1</th>\n",
       "      <th>2</th>\n",
       "      <th>3</th>\n",
       "      <th>4</th>\n",
       "      <th>5</th>\n",
       "      <th>6</th>\n",
       "      <th>7</th>\n",
       "    </tr>\n",
       "  </thead>\n",
       "  <tbody>\n",
       "    <tr>\n",
       "      <th>name</th>\n",
       "      <td>Nicolas Freitas Teste</td>\n",
       "      <td>Gustavo Silveira Teste</td>\n",
       "      <td>Otávio Barros Teste</td>\n",
       "      <td>Davi Lucas Fogaça Teste</td>\n",
       "      <td>Bruna Santos Teste</td>\n",
       "      <td>Daniel Campos Teste</td>\n",
       "      <td>João Pedro Lima Teste</td>\n",
       "    </tr>\n",
       "    <tr>\n",
       "      <th>birth_date</th>\n",
       "      <td>1975-03-04</td>\n",
       "      <td>1997-12-09</td>\n",
       "      <td>1983-06-17</td>\n",
       "      <td>2003-02-14</td>\n",
       "      <td>1975-09-07</td>\n",
       "      <td>1994-06-09</td>\n",
       "      <td>1998-11-24</td>\n",
       "    </tr>\n",
       "    <tr>\n",
       "      <th>home_phone</th>\n",
       "      <td>(31)6547-8284</td>\n",
       "      <td>(81)3557-3324</td>\n",
       "      <td>(21)2657-0791</td>\n",
       "      <td>(61)9625-2747</td>\n",
       "      <td>(11)0218-1507</td>\n",
       "      <td>(84)7891-0063</td>\n",
       "      <td>(11)1719-0456</td>\n",
       "    </tr>\n",
       "    <tr>\n",
       "      <th>email</th>\n",
       "      <td>luigi31@moura.org</td>\n",
       "      <td>souzanicolas@hotmail.com</td>\n",
       "      <td>tcampos@silva.br</td>\n",
       "      <td>marianaaragao@da.com</td>\n",
       "      <td>ateixeira@barros.net</td>\n",
       "      <td>eloah67@gmail.com</td>\n",
       "      <td>ramosevelyn@alves.org</td>\n",
       "    </tr>\n",
       "    <tr>\n",
       "      <th>healthinsurance_pack</th>\n",
       "      <td>json::[\\n\\t{\\n\\t\\t\"name\":\"SulAmérica\",\\n\\t\\t\"c...</td>\n",
       "      <td>json::[\\n\\t{\\n\\t\\t\"name\":\"ABBESS\",\\n\\t\\t\"code\"...</td>\n",
       "      <td>json::[\\n\\t{\\n\\t\\t\"name\":\"SulAmérica\",\\n\\t\\t\"c...</td>\n",
       "      <td>NaN</td>\n",
       "      <td>json::[\\n\\t{\\n\\t\\t\"name\":\"Assistência Médica S...</td>\n",
       "      <td>json::[\\n\\t{\\n\\t\\t\"name\":\"Caring Saúde Assistê...</td>\n",
       "      <td>json::[\\n\\t{\\n\\t\\t\"name\":\"Allianz\",\\n\\t\\t\"code...</td>\n",
       "    </tr>\n",
       "  </tbody>\n",
       "</table>\n",
       "</div>"
      ],
      "text/plain": [
       "patient_code                                                          1  \\\n",
       "name                                              Nicolas Freitas Teste   \n",
       "birth_date                                                   1975-03-04   \n",
       "home_phone                                                (31)6547-8284   \n",
       "email                                                 luigi31@moura.org   \n",
       "healthinsurance_pack  json::[\\n\\t{\\n\\t\\t\"name\":\"SulAmérica\",\\n\\t\\t\"c...   \n",
       "\n",
       "patient_code                                                          2  \\\n",
       "name                                             Gustavo Silveira Teste   \n",
       "birth_date                                                   1997-12-09   \n",
       "home_phone                                                (81)3557-3324   \n",
       "email                                          souzanicolas@hotmail.com   \n",
       "healthinsurance_pack  json::[\\n\\t{\\n\\t\\t\"name\":\"ABBESS\",\\n\\t\\t\"code\"...   \n",
       "\n",
       "patient_code                                                          3  \\\n",
       "name                                                Otávio Barros Teste   \n",
       "birth_date                                                   1983-06-17   \n",
       "home_phone                                                (21)2657-0791   \n",
       "email                                                  tcampos@silva.br   \n",
       "healthinsurance_pack  json::[\\n\\t{\\n\\t\\t\"name\":\"SulAmérica\",\\n\\t\\t\"c...   \n",
       "\n",
       "patient_code                                4  \\\n",
       "name                  Davi Lucas Fogaça Teste   \n",
       "birth_date                         2003-02-14   \n",
       "home_phone                      (61)9625-2747   \n",
       "email                    marianaaragao@da.com   \n",
       "healthinsurance_pack                      NaN   \n",
       "\n",
       "patient_code                                                          5  \\\n",
       "name                                                 Bruna Santos Teste   \n",
       "birth_date                                                   1975-09-07   \n",
       "home_phone                                                (11)0218-1507   \n",
       "email                                              ateixeira@barros.net   \n",
       "healthinsurance_pack  json::[\\n\\t{\\n\\t\\t\"name\":\"Assistência Médica S...   \n",
       "\n",
       "patient_code                                                          6  \\\n",
       "name                                                Daniel Campos Teste   \n",
       "birth_date                                                   1994-06-09   \n",
       "home_phone                                                (84)7891-0063   \n",
       "email                                                 eloah67@gmail.com   \n",
       "healthinsurance_pack  json::[\\n\\t{\\n\\t\\t\"name\":\"Caring Saúde Assistê...   \n",
       "\n",
       "patient_code                                                          7  \n",
       "name                                              João Pedro Lima Teste  \n",
       "birth_date                                                   1998-11-24  \n",
       "home_phone                                                (11)1719-0456  \n",
       "email                                             ramosevelyn@alves.org  \n",
       "healthinsurance_pack  json::[\\n\\t{\\n\\t\\t\"name\":\"Allianz\",\\n\\t\\t\"code...  "
      ]
     },
     "execution_count": 10,
     "metadata": {},
     "output_type": "execute_result"
    }
   ],
   "source": [
    "df_patient.head(7).T"
   ]
  },
  {
   "cell_type": "markdown",
   "metadata": {},
   "source": [
    "O autor optou por manter o índice iniciando por 1, considerando 0 como 'None', já que não existe uma definição precisa de por onde o índice deveria começar (por 0 ou 1)."
   ]
  },
  {
   "cell_type": "code",
   "execution_count": 11,
   "metadata": {},
   "outputs": [],
   "source": [
    "index = df['paciente'].values.astype(int)"
   ]
  },
  {
   "cell_type": "markdown",
   "metadata": {},
   "source": [
    "Foram criadas as colunas correspondentes contendo os respectivos valores para 'patient_name', 'patient_birth_date', 'patient_home_phone' e 'patient_email'."
   ]
  },
  {
   "cell_type": "code",
   "execution_count": 12,
   "metadata": {},
   "outputs": [],
   "source": [
    "df['patient_name'] = [ df_patient['name'][i] if i in df_patient.index else np.nan for i in index ]\n",
    "df['patient_birth_date'] = [ df_patient['birth_date'][i] if i in df_patient.index else np.nan for i in index ]\n",
    "df['patient_home_phone'] = [ df_patient['home_phone'][i] if i in df_patient.index else np.nan for i in index ]\n",
    "df['patient_email'] = [ df_patient['email'][i] if i in df_patient.index else np.nan for i in index ]"
   ]
  },
  {
   "cell_type": "markdown",
   "metadata": {},
   "source": [
    "### Remoção de linhas não contendo as informações necessárias\n",
    "\n",
    "A seguir, serão removidas as linhas contendo valores nulos na coluna 'patient_name':"
   ]
  },
  {
   "cell_type": "code",
   "execution_count": 13,
   "metadata": {},
   "outputs": [],
   "source": [
    "df = df.dropna(subset = ['patient_name'])"
   ]
  },
  {
   "cell_type": "markdown",
   "metadata": {},
   "source": [
    "### Trantamento dos recursos 'physician_id'\n",
    "\n",
    "Este recurso precisa de informação externa para ser tratado, pelo que importaremos o arquivo \"physician_names.csv\", mais específicamente as colunas \"sysuser\" e \"name\"."
   ]
  },
  {
   "cell_type": "code",
   "execution_count": 14,
   "metadata": {},
   "outputs": [],
   "source": [
    "df_physician = pd.read_csv('desafio-base2-output/physician_names.csv', index_col=[\"sysuser\"])"
   ]
  },
  {
   "cell_type": "markdown",
   "metadata": {},
   "source": [
    "Repare que estamos utilizando o arquivo com os dados tratados anteriormente."
   ]
  },
  {
   "cell_type": "code",
   "execution_count": 15,
   "metadata": {},
   "outputs": [],
   "source": [
    "index = df['physician_id'].values.astype(int)"
   ]
  },
  {
   "cell_type": "code",
   "execution_count": 16,
   "metadata": {},
   "outputs": [],
   "source": [
    "df['physician_id'] = [ i if i in df_physician.index else np.nan for i in index]"
   ]
  },
  {
   "cell_type": "markdown",
   "metadata": {},
   "source": [
    "### Remoção de linhas não contendo as informações necessárias\n",
    "\n",
    "A seguir, serão removidas as linhas contendo valores nulos na coluna 'physician_id':"
   ]
  },
  {
   "cell_type": "code",
   "execution_count": 17,
   "metadata": {},
   "outputs": [],
   "source": [
    "df = df.dropna(subset = ['physician_id'])"
   ]
  },
  {
   "cell_type": "markdown",
   "metadata": {},
   "source": [
    "### Trantamento dos recursos 'healthinsurance_name'\n",
    "\n",
    "Este recurso precisa de informação que foi importada no dataframe `df_patient['healthinsurance_pack']`.\n",
    "A seguir será extraído apenas o nome do convênio, como a seguir:"
   ]
  },
  {
   "cell_type": "code",
   "execution_count": 18,
   "metadata": {},
   "outputs": [],
   "source": [
    "df_patient['healthinsurance_pack'] = df_patient['healthinsurance_pack'].str.extract(r'\"name\":\"(.*?)\"')[0].values"
   ]
  },
  {
   "cell_type": "markdown",
   "metadata": {},
   "source": [
    "Repare que novamente estamos utilizando um dos arquivos com os dados tratados anteriormente."
   ]
  },
  {
   "cell_type": "code",
   "execution_count": 19,
   "metadata": {},
   "outputs": [],
   "source": [
    "index = df['paciente'].values.astype(int)\n",
    "df['healthinsurance_name'] = [ df_patient['healthinsurance_pack'][i] if i in df_patient.index else np.nan for i in index ]"
   ]
  },
  {
   "cell_type": "markdown",
   "metadata": {},
   "source": [
    "### Trantamento do recurso 'eventprocedure_pack'\n",
    "\n",
    "Neste caso, o tratamento será o de atualizar o valor da coluna 'eventprocedure_pack' no formato json desejado."
   ]
  },
  {
   "cell_type": "code",
   "execution_count": 20,
   "metadata": {},
   "outputs": [],
   "source": [
    "df['eventprocedure_pack'] = 'json::[\\\\n\\\\t{\\\\n\\\\t\\\\t\"name\":\"'+df['eventprocedure_pack']+'\"\\\\n\\\\t}\\\\n]'"
   ]
  },
  {
   "cell_type": "markdown",
   "metadata": {},
   "source": [
    "### Trantamento do recurso 'description'\n",
    "\n",
    "Neste caso, o tratamento será o de atualizar o valor da coluna 'description' no formato json desejado.\n",
    "\n",
    "O autor não teve tempo de resolver a questão de remoção das tags HTML. "
   ]
  },
  {
   "cell_type": "code",
   "execution_count": 21,
   "metadata": {},
   "outputs": [],
   "source": [
    "CLEANR = re.compile('<.*?>|&([a-z0-9]+|#[0-9]{1,6}|#x[0-9a-f]{1,6});')\n",
    "\n",
    "def cleanhtml(raw_html):\n",
    "  cleantext = re.sub(CLEANR, '', raw_html)\n",
    "  return cleantext"
   ]
  },
  {
   "cell_type": "code",
   "execution_count": 22,
   "metadata": {},
   "outputs": [],
   "source": [
    "df[\"description\"] = [cleanhtml(raw_html) for raw_html in df[\"description\"] ]"
   ]
  },
  {
   "cell_type": "markdown",
   "metadata": {},
   "source": [
    "### Remoção de linhas não contendo as informações necessárias\n",
    "\n",
    "A seguir, serão removidas as linhas contendo valores nulos na coluna 'date':"
   ]
  },
  {
   "cell_type": "code",
   "execution_count": 23,
   "metadata": {},
   "outputs": [],
   "source": [
    "df = df.dropna(subset = ['date'])"
   ]
  },
  {
   "cell_type": "markdown",
   "metadata": {},
   "source": [
    "### Remoção de recursos repetidos ou não necessários\n",
    "\n",
    "A seguir, serão removidos os recursos repetidos ou que não são mais necessários:"
   ]
  },
  {
   "cell_type": "code",
   "execution_count": 24,
   "metadata": {},
   "outputs": [],
   "source": [
    "df = df.loc[:, [\"patient_birth_date\",\"patient_name\",\"physician_id\",\"date\",\"status\",\"patient_mobile_phone\",\"patient_home_phone\",\"patient_email\",\"arrival_time\",\"start_time\",\"end_time\",\"description\",\"all_day\",\"cancel_reason\",\"healthinsurance_name\",\"event_blocked_scheduling\",\"eventprocedure_pack\"]]"
   ]
  },
  {
   "cell_type": "markdown",
   "metadata": {},
   "source": [
    "## Exportação do arquivo de saída\n",
    "\n",
    "Como solicitado no desafio, o arquivo de saída será gerado com o conjunto de caracteres `UTF-8`:"
   ]
  },
  {
   "cell_type": "code",
   "execution_count": 25,
   "metadata": {},
   "outputs": [],
   "source": [
    "df.to_csv('desafio-base2-output/event_scheduling.csv',index=False, encoding='utf-8')"
   ]
  }
 ],
 "metadata": {
  "interpreter": {
   "hash": "efaa2df0126d1cfe86bc807cae229c90ce095cf51fbc3c4f46172a2e305a7932"
  },
  "kernelspec": {
   "display_name": "Python 3.8.10 ('venv': venv)",
   "language": "python",
   "name": "python3"
  },
  "language_info": {
   "codemirror_mode": {
    "name": "ipython",
    "version": 3
   },
   "file_extension": ".py",
   "mimetype": "text/x-python",
   "name": "python",
   "nbconvert_exporter": "python",
   "pygments_lexer": "ipython3",
   "version": "3.8.10"
  },
  "orig_nbformat": 4
 },
 "nbformat": 4,
 "nbformat_minor": 2
}
