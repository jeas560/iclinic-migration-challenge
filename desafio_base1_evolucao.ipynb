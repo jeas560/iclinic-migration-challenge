{
 "cells": [
  {
   "cell_type": "markdown",
   "metadata": {},
   "source": [
    "## Tratamento do arquivo 'evolucao.csv'\n",
    "Neste caderno será apresentada a exploração inicial e tratamento dos dados do arquivo 'evolucao.csv'"
   ]
  },
  {
   "cell_type": "markdown",
   "metadata": {},
   "source": [
    "### Importação das bibliotecas\n",
    " \n",
    "A seguir uma breve apresentação de cada biblioteca que será utilizada:\n",
    "\n",
    "- A biblioteca [NumPy](https://numpy.org/) é fundamental para qualquer tipo de computação científica em Python\n",
    "- A biblioteca [pandas](https://pandas.pydata.org/) é a nossa ferramenta pricipal para análise e manipulação de dados"
   ]
  },
  {
   "cell_type": "code",
   "execution_count": 1,
   "metadata": {},
   "outputs": [],
   "source": [
    "import numpy as np\n",
    "import pandas as pd"
   ]
  },
  {
   "cell_type": "markdown",
   "metadata": {},
   "source": [
    "### Leitura e tratamento inicial dos dados de entrada\n",
    "\n",
    "Através da biblioteca `pandas` é realizada a leitura do arquivo '.csv' utilizando a função `read_csv()`, onde cada parâmetro tem o seguinte significado:\n",
    "\n",
    "- `parse_dates=['Data']`: Fazer a importação da coluna `'Data'` como tipo `data hora`\n",
    "- `encoding='iso-8859-1'`: Tipo de `encoding` do arquivo sendo lido\n",
    "- `quotechar='\"'`: O caracter usado para denotar o inicio e fim de um item entre aspas\n",
    "- `delimiter='|'`: delimitador utilizado na escrita do arquivo"
   ]
  },
  {
   "cell_type": "code",
   "execution_count": 2,
   "metadata": {},
   "outputs": [
    {
     "data": {
      "text/plain": [
       "(1230, 6)"
      ]
     },
     "execution_count": 2,
     "metadata": {},
     "output_type": "execute_result"
    }
   ],
   "source": [
    "df = pd.read_csv('desafio-base1/evolucao.csv', parse_dates=['Data'], encoding='iso-8859-1', quotechar='\"', delimiter='|')"
   ]
  },
  {
   "cell_type": "markdown",
   "metadata": {},
   "source": [
    "### Visualização dos dados\n",
    "\n",
    "Nas próximas duas células é realizada a visualização inicial dos dados.\n",
    "\n",
    "Usando o método `head()` do `pandas` com um argumento `5` nele é possível visualizar os primeiros `5` registros do Dataframe.\n",
    "    \n",
    "O `.T` significa `Transposição`, desta forma as linhas serão visualizadas como colunas e vice-versa."
   ]
  },
  {
   "cell_type": "code",
   "execution_count": 3,
   "metadata": {},
   "outputs": [
    {
     "data": {
      "text/html": [
       "<div>\n",
       "<style scoped>\n",
       "    .dataframe tbody tr th:only-of-type {\n",
       "        vertical-align: middle;\n",
       "    }\n",
       "\n",
       "    .dataframe tbody tr th {\n",
       "        vertical-align: top;\n",
       "    }\n",
       "\n",
       "    .dataframe thead th {\n",
       "        text-align: right;\n",
       "    }\n",
       "</style>\n",
       "<table border=\"1\" class=\"dataframe\">\n",
       "  <thead>\n",
       "    <tr style=\"text-align: right;\">\n",
       "      <th></th>\n",
       "      <th>0</th>\n",
       "      <th>1</th>\n",
       "      <th>2</th>\n",
       "    </tr>\n",
       "  </thead>\n",
       "  <tbody>\n",
       "    <tr>\n",
       "      <th>Código</th>\n",
       "      <td>78</td>\n",
       "      <td>361</td>\n",
       "      <td>427</td>\n",
       "    </tr>\n",
       "    <tr>\n",
       "      <th>Data</th>\n",
       "      <td>2008-12-14 00:00:00</td>\n",
       "      <td>2009-03-27 00:00:00</td>\n",
       "      <td>2018-09-04 00:00:00</td>\n",
       "    </tr>\n",
       "    <tr>\n",
       "      <th>Procedimento</th>\n",
       "      <td>Consulta</td>\n",
       "      <td>Retorno</td>\n",
       "      <td>NaN</td>\n",
       "    </tr>\n",
       "    <tr>\n",
       "      <th>Tipo</th>\n",
       "      <td>HDA</td>\n",
       "      <td>HDA</td>\n",
       "      <td>Exame fisico</td>\n",
       "    </tr>\n",
       "    <tr>\n",
       "      <th>Medico</th>\n",
       "      <td>Teste 1</td>\n",
       "      <td>José</td>\n",
       "      <td>Teste 1</td>\n",
       "    </tr>\n",
       "    <tr>\n",
       "      <th>Evolução</th>\n",
       "      <td>Consequatur exercitationem adipisci. Labore qu...</td>\n",
       "      <td>Ducimus et error reprehenderit.\\nAccusantium p...</td>\n",
       "      <td>Nesciunt quia ipsam quidem enim. Dolorum molli...</td>\n",
       "    </tr>\n",
       "  </tbody>\n",
       "</table>\n",
       "</div>"
      ],
      "text/plain": [
       "                                                              0  \\\n",
       "Código                                                       78   \n",
       "Data                                        2008-12-14 00:00:00   \n",
       "Procedimento                                           Consulta   \n",
       "Tipo                                                        HDA   \n",
       "Medico                                                  Teste 1   \n",
       "Evolução      Consequatur exercitationem adipisci. Labore qu...   \n",
       "\n",
       "                                                              1  \\\n",
       "Código                                                      361   \n",
       "Data                                        2009-03-27 00:00:00   \n",
       "Procedimento                                            Retorno   \n",
       "Tipo                                                        HDA   \n",
       "Medico                                                     José   \n",
       "Evolução      Ducimus et error reprehenderit.\\nAccusantium p...   \n",
       "\n",
       "                                                              2  \n",
       "Código                                                      427  \n",
       "Data                                        2018-09-04 00:00:00  \n",
       "Procedimento                                                NaN  \n",
       "Tipo                                               Exame fisico  \n",
       "Medico                                                  Teste 1  \n",
       "Evolução      Nesciunt quia ipsam quidem enim. Dolorum molli...  "
      ]
     },
     "execution_count": 3,
     "metadata": {},
     "output_type": "execute_result"
    }
   ],
   "source": [
    "df.head(5).T"
   ]
  },
  {
   "cell_type": "markdown",
   "metadata": {},
   "source": [
    "O método `info()` do `pandas` apresenta um resumo dos dados no Dataframe, uma informação interessante é o tipo de dado de cada recurso."
   ]
  },
  {
   "cell_type": "code",
   "execution_count": 4,
   "metadata": {},
   "outputs": [
    {
     "name": "stdout",
     "output_type": "stream",
     "text": [
      "<class 'pandas.core.frame.DataFrame'>\n",
      "RangeIndex: 1230 entries, 0 to 1229\n",
      "Data columns (total 6 columns):\n",
      " #   Column        Non-Null Count  Dtype         \n",
      "---  ------        --------------  -----         \n",
      " 0   Código        1230 non-null   int64         \n",
      " 1   Data          1230 non-null   datetime64[ns]\n",
      " 2   Procedimento  1003 non-null   object        \n",
      " 3   Tipo          1230 non-null   object        \n",
      " 4   Medico        1230 non-null   object        \n",
      " 5   Evolução      1230 non-null   object        \n",
      "dtypes: datetime64[ns](1), int64(1), object(4)\n",
      "memory usage: 57.8+ KB\n"
     ]
    }
   ],
   "source": [
    "df.info()"
   ]
  },
  {
   "cell_type": "markdown",
   "metadata": {},
   "source": [
    "## Limpeza e tratamento dos dados\n",
    "\n",
    "A seguir será realizada a limpeza e tratamento dos dados.\n",
    "\n",
    "### Valores ausentes, valores equivalentes e tratamento inicial\n",
    "\n",
    "Quando utilizamos o método `info()` para ver o resumo dos dados, foi possível ver que muitas colunas tinham muitos dados ausentes, entrentanto, na documentação da iClinic é possível ver que os campos `patient_id`, `patient_name`, `physician_id`, `date` e `eventblock_text` são obrigatórios e no Dataset anterior as colunas `Código`, `Medico`, `Data` e `Evolução` são seus equivalentes diretos, porém, está faltando informações da coluna `patient_name`, pelo que será necessário um maior tratamento para cumprir as condições obrigatórias."
   ]
  },
  {
   "cell_type": "markdown",
   "metadata": {},
   "source": [
    "### Mudança de nome das colunas para o padrão iClinic\n",
    "\n",
    "A seguir será realizada a mudança no nome dos recursos no Dataset anterior para os nomes equivalente ao padrão iClinic:"
   ]
  },
  {
   "cell_type": "code",
   "execution_count": 5,
   "metadata": {},
   "outputs": [],
   "source": [
    "df = df.rename(\n",
    "    columns = {\n",
    "        \"Código\": \"patient_id\",\n",
    "        \"Data\": \"date\",\n",
    "        \"Procedimento\": \"tab_name\",\n",
    "        \"Tipo\": \"eventblock_name\",\n",
    "        \"Evolução\": \"eventblock_text\",\n",
    "        \"Medico\": \"physician_id\",\n",
    "    }\n",
    ")"
   ]
  },
  {
   "cell_type": "markdown",
   "metadata": {},
   "source": [
    "### Tratamento do recurso 'patient_name'\n",
    "\n",
    "Este recurso precisa de informação externa para ser tratado, pelo que, após a importação do arquivo \"patient.csv\", onde está pode ser encontrada dentre outras informações, o nome do paciente, será utilizado o índice 'patient_id' para localizar o nome de cada usuário."
   ]
  },
  {
   "cell_type": "code",
   "execution_count": 6,
   "metadata": {},
   "outputs": [],
   "source": [
    "df_patient = pd.read_csv('desafio-base1-output/patient.csv', usecols = [\"name\"])"
   ]
  },
  {
   "cell_type": "markdown",
   "metadata": {},
   "source": [
    "Repare que estamos utilizando o arquivo com os dados tratados anteriormente.\n",
    "Neste caso, como o 'patient_id' inicia com 0 e está ordenada é fácil de encontrar seu nome correspondente."
   ]
  },
  {
   "cell_type": "code",
   "execution_count": 7,
   "metadata": {},
   "outputs": [],
   "source": [
    "index = df['patient_id'].values\n",
    "df['patient_name'] = df_patient['name'][index].values"
   ]
  },
  {
   "cell_type": "markdown",
   "metadata": {},
   "source": [
    "### Tratamento do recurso 'physician_id'\n",
    "\n",
    "Este recurso precisa de informação externa para ser tratado, pelo que, após a importação do arquivo \"physician_names.csv\", poderá ser realizada a busca do nome do médico para logo substituir pelo seu Id correspondente:"
   ]
  },
  {
   "cell_type": "code",
   "execution_count": 8,
   "metadata": {},
   "outputs": [],
   "source": [
    "df_physician_names = pd.read_csv('desafio-base1-output/physician_names.csv')"
   ]
  },
  {
   "cell_type": "markdown",
   "metadata": {},
   "source": [
    "Repare que estamos utilizando o arquivo com os dados tratados anteriormente.\n",
    "Neste caso, como o 'physician_names' está ordenado, podemos relacionar os indices de forma crescente e depois fazer a sua substituição devida. "
   ]
  },
  {
   "cell_type": "code",
   "execution_count": 9,
   "metadata": {},
   "outputs": [],
   "source": [
    "index_of_df_physician_names = pd.factorize(df_physician_names['physician_names'])[0].astype(int)\n",
    "df['physician_id'] = df['physician_id'].replace(df_physician_names.values,index_of_df_physician_names)"
   ]
  },
  {
   "cell_type": "markdown",
   "metadata": {},
   "source": [
    "### Adição de recursos ausentes"
   ]
  },
  {
   "cell_type": "code",
   "execution_count": 10,
   "metadata": {},
   "outputs": [],
   "source": [
    "df['start_time'] = np.nan\n",
    "df['end_time'] = np.nan"
   ]
  },
  {
   "cell_type": "markdown",
   "metadata": {},
   "source": [
    "### Remoção de recursos repetidos ou não necessários\n",
    "\n",
    "A seguir, serão removidos os recursos repetidos ou que não são mais necessários:"
   ]
  },
  {
   "cell_type": "code",
   "execution_count": 11,
   "metadata": {},
   "outputs": [],
   "source": [
    "df = df.loc[:, [\"patient_id\",\"patient_name\",\"physician_id\",\"date\",\"start_time\",\"end_time\",\"tab_name\",\"eventblock_name\",\"eventblock_text\"]]"
   ]
  },
  {
   "cell_type": "markdown",
   "metadata": {},
   "source": [
    "## Exportação do arquivo de saída\n",
    "\n",
    "Como solicitado no desafio, o arquivo de saída será gerado com o conjunto de caracteres `UTF-8`:"
   ]
  },
  {
   "cell_type": "code",
   "execution_count": 12,
   "metadata": {},
   "outputs": [],
   "source": [
    "df.to_csv('desafio-base1-output/event_record.csv',index=False, encoding='utf-8')"
   ]
  }
 ],
 "metadata": {
  "interpreter": {
   "hash": "efaa2df0126d1cfe86bc807cae229c90ce095cf51fbc3c4f46172a2e305a7932"
  },
  "kernelspec": {
   "display_name": "Python 3.8.10 ('venv': venv)",
   "language": "python",
   "name": "python3"
  },
  "language_info": {
   "codemirror_mode": {
    "name": "ipython",
    "version": 3
   },
   "file_extension": ".py",
   "mimetype": "text/x-python",
   "name": "python",
   "nbconvert_exporter": "python",
   "pygments_lexer": "ipython3",
   "version": "3.8.10"
  },
  "orig_nbformat": 4
 },
 "nbformat": 4,
 "nbformat_minor": 2
}
