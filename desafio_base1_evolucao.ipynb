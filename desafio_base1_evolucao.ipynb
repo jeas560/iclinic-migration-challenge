{
 "cells": [
  {
   "cell_type": "code",
   "execution_count": 1,
   "metadata": {},
   "outputs": [],
   "source": [
    "import numpy as np\n",
    "import pandas as pd"
   ]
  },
  {
   "cell_type": "code",
   "execution_count": 2,
   "metadata": {},
   "outputs": [
    {
     "data": {
      "text/plain": [
       "(1230, 6)"
      ]
     },
     "execution_count": 2,
     "metadata": {},
     "output_type": "execute_result"
    }
   ],
   "source": [
    "df = pd.read_csv('desafio-base1/evolucao.csv', parse_dates=['Data'], encoding='iso-8859-1', quotechar='\"', delimiter='|')\n",
    "df.shape"
   ]
  },
  {
   "cell_type": "code",
   "execution_count": 3,
   "metadata": {},
   "outputs": [
    {
     "data": {
      "text/html": [
       "<div>\n",
       "<style scoped>\n",
       "    .dataframe tbody tr th:only-of-type {\n",
       "        vertical-align: middle;\n",
       "    }\n",
       "\n",
       "    .dataframe tbody tr th {\n",
       "        vertical-align: top;\n",
       "    }\n",
       "\n",
       "    .dataframe thead th {\n",
       "        text-align: right;\n",
       "    }\n",
       "</style>\n",
       "<table border=\"1\" class=\"dataframe\">\n",
       "  <thead>\n",
       "    <tr style=\"text-align: right;\">\n",
       "      <th></th>\n",
       "      <th>0</th>\n",
       "      <th>1</th>\n",
       "      <th>2</th>\n",
       "    </tr>\n",
       "  </thead>\n",
       "  <tbody>\n",
       "    <tr>\n",
       "      <th>Código</th>\n",
       "      <td>78</td>\n",
       "      <td>361</td>\n",
       "      <td>427</td>\n",
       "    </tr>\n",
       "    <tr>\n",
       "      <th>Data</th>\n",
       "      <td>2008-12-14 00:00:00</td>\n",
       "      <td>2009-03-27 00:00:00</td>\n",
       "      <td>2018-09-04 00:00:00</td>\n",
       "    </tr>\n",
       "    <tr>\n",
       "      <th>Procedimento</th>\n",
       "      <td>Consulta</td>\n",
       "      <td>Retorno</td>\n",
       "      <td>NaN</td>\n",
       "    </tr>\n",
       "    <tr>\n",
       "      <th>Tipo</th>\n",
       "      <td>HDA</td>\n",
       "      <td>HDA</td>\n",
       "      <td>Exame fisico</td>\n",
       "    </tr>\n",
       "    <tr>\n",
       "      <th>Medico</th>\n",
       "      <td>Teste 1</td>\n",
       "      <td>José</td>\n",
       "      <td>Teste 1</td>\n",
       "    </tr>\n",
       "    <tr>\n",
       "      <th>Evolução</th>\n",
       "      <td>Consequatur exercitationem adipisci. Labore qu...</td>\n",
       "      <td>Ducimus et error reprehenderit.\\nAccusantium p...</td>\n",
       "      <td>Nesciunt quia ipsam quidem enim. Dolorum molli...</td>\n",
       "    </tr>\n",
       "  </tbody>\n",
       "</table>\n",
       "</div>"
      ],
      "text/plain": [
       "                                                              0  \\\n",
       "Código                                                       78   \n",
       "Data                                        2008-12-14 00:00:00   \n",
       "Procedimento                                           Consulta   \n",
       "Tipo                                                        HDA   \n",
       "Medico                                                  Teste 1   \n",
       "Evolução      Consequatur exercitationem adipisci. Labore qu...   \n",
       "\n",
       "                                                              1  \\\n",
       "Código                                                      361   \n",
       "Data                                        2009-03-27 00:00:00   \n",
       "Procedimento                                            Retorno   \n",
       "Tipo                                                        HDA   \n",
       "Medico                                                     José   \n",
       "Evolução      Ducimus et error reprehenderit.\\nAccusantium p...   \n",
       "\n",
       "                                                              2  \n",
       "Código                                                      427  \n",
       "Data                                        2018-09-04 00:00:00  \n",
       "Procedimento                                                NaN  \n",
       "Tipo                                               Exame fisico  \n",
       "Medico                                                  Teste 1  \n",
       "Evolução      Nesciunt quia ipsam quidem enim. Dolorum molli...  "
      ]
     },
     "execution_count": 3,
     "metadata": {},
     "output_type": "execute_result"
    }
   ],
   "source": [
    "df.head(3).T"
   ]
  },
  {
   "cell_type": "code",
   "execution_count": 4,
   "metadata": {},
   "outputs": [
    {
     "name": "stdout",
     "output_type": "stream",
     "text": [
      "<class 'pandas.core.frame.DataFrame'>\n",
      "RangeIndex: 1230 entries, 0 to 1229\n",
      "Data columns (total 6 columns):\n",
      " #   Column        Non-Null Count  Dtype         \n",
      "---  ------        --------------  -----         \n",
      " 0   Código        1230 non-null   int64         \n",
      " 1   Data          1230 non-null   datetime64[ns]\n",
      " 2   Procedimento  1003 non-null   object        \n",
      " 3   Tipo          1230 non-null   object        \n",
      " 4   Medico        1230 non-null   object        \n",
      " 5   Evolução      1230 non-null   object        \n",
      "dtypes: datetime64[ns](1), int64(1), object(4)\n",
      "memory usage: 57.8+ KB\n"
     ]
    }
   ],
   "source": [
    "df.info()"
   ]
  },
  {
   "cell_type": "code",
   "execution_count": 5,
   "metadata": {},
   "outputs": [],
   "source": [
    "# Colocando o nome das colunas do arquivo de acordo a documentação da iClinic\n",
    "df = df.rename(\n",
    "    columns = {\n",
    "        \"Código\": \"patient_id\",\n",
    "        \"Data\": \"date\",\n",
    "        \"Procedimento\": \"tab_name\",\n",
    "        \"Tipo\": \"eventblock_name\",\n",
    "        \"Evolução\": \"eventblock_text\",\n",
    "        \"Medico\": \"physician_id\",\n",
    "    }\n",
    ")"
   ]
  },
  {
   "cell_type": "code",
   "execution_count": 6,
   "metadata": {},
   "outputs": [],
   "source": [
    "# Tratamento recurso 'patient_name'\n",
    "# Este recurso precisa de informação externa para ser tratado, resumidamente, utilizaremos o índice em \"patient_id\" para localizar o nome do usuário no arquivo \"patient.csv\"\n",
    "df_patient = pd.read_csv('desafio-base1-output/patient.csv', usecols = [\"name\"])"
   ]
  },
  {
   "cell_type": "code",
   "execution_count": 7,
   "metadata": {},
   "outputs": [],
   "source": [
    "# Neste caso, como o 'patient_id' inicia com 0 e está ordenada é fácil de encontrar seu nome correspondente\n",
    "index = df['patient_id'].values\n",
    "df['patient_name'] = df_patient['name'][index].values"
   ]
  },
  {
   "cell_type": "code",
   "execution_count": 8,
   "metadata": {},
   "outputs": [],
   "source": [
    "# Tratamento recurso 'physician_id'\n",
    "# Este recurso também precisa de informação externa para ser tratado, resumidamente, buscaremos o nome na coluna \"Medico\" \n",
    "df_physician_names = pd.read_csv('desafio-base1-output/physician_names.csv')"
   ]
  },
  {
   "cell_type": "code",
   "execution_count": 9,
   "metadata": {},
   "outputs": [],
   "source": [
    "# Neste caso, como o 'physician_names' está ordenada, podemos relacionar os indices de forma crescente\n",
    "index_of_df_physician_names = pd.factorize(df_physician_names['physician_names'])[0].astype(int)\n",
    "df['physician_id'] = df['physician_id'].replace(df_physician_names.values,index_of_df_physician_names)"
   ]
  },
  {
   "cell_type": "code",
   "execution_count": 10,
   "metadata": {},
   "outputs": [],
   "source": [
    "#Adiconando as colunas ausentes\n",
    "df['start_time'] = np.nan\n",
    "df['end_time'] = np.nan"
   ]
  },
  {
   "cell_type": "code",
   "execution_count": 11,
   "metadata": {},
   "outputs": [],
   "source": [
    "df = df.loc[:, [\"patient_id\",\"patient_name\",\"physician_id\",\"date\",\"start_time\",\"end_time\",\"tab_name\",\"eventblock_name\",\"eventblock_text\"]]"
   ]
  },
  {
   "cell_type": "code",
   "execution_count": 12,
   "metadata": {},
   "outputs": [],
   "source": [
    "df.to_csv('desafio-base1-output/event_record.csv',index=False, encoding='utf-8')\n"
   ]
  }
 ],
 "metadata": {
  "interpreter": {
   "hash": "efaa2df0126d1cfe86bc807cae229c90ce095cf51fbc3c4f46172a2e305a7932"
  },
  "kernelspec": {
   "display_name": "Python 3.8.10 ('venv': venv)",
   "language": "python",
   "name": "python3"
  },
  "language_info": {
   "codemirror_mode": {
    "name": "ipython",
    "version": 3
   },
   "file_extension": ".py",
   "mimetype": "text/x-python",
   "name": "python",
   "nbconvert_exporter": "python",
   "pygments_lexer": "ipython3",
   "version": "3.8.10"
  },
  "orig_nbformat": 4
 },
 "nbformat": 4,
 "nbformat_minor": 2
}
