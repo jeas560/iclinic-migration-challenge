{
 "cells": [
  {
   "cell_type": "code",
   "execution_count": 15,
   "metadata": {},
   "outputs": [],
   "source": [
    "import numpy as np\n",
    "import pandas as pd"
   ]
  },
  {
   "cell_type": "code",
   "execution_count": 16,
   "metadata": {},
   "outputs": [
    {
     "data": {
      "text/plain": [
       "(1230, 9)"
      ]
     },
     "execution_count": 16,
     "metadata": {},
     "output_type": "execute_result"
    }
   ],
   "source": [
    "df = pd.read_csv('desafio-base1/agenda.csv', parse_dates=['Data'], encoding='iso-8859-1', quotechar='\"', delimiter='|')\n",
    "df.shape"
   ]
  },
  {
   "cell_type": "code",
   "execution_count": 17,
   "metadata": {},
   "outputs": [
    {
     "data": {
      "text/html": [
       "<div>\n",
       "<style scoped>\n",
       "    .dataframe tbody tr th:only-of-type {\n",
       "        vertical-align: middle;\n",
       "    }\n",
       "\n",
       "    .dataframe tbody tr th {\n",
       "        vertical-align: top;\n",
       "    }\n",
       "\n",
       "    .dataframe thead th {\n",
       "        text-align: right;\n",
       "    }\n",
       "</style>\n",
       "<table border=\"1\" class=\"dataframe\">\n",
       "  <thead>\n",
       "    <tr style=\"text-align: right;\">\n",
       "      <th></th>\n",
       "      <th>0</th>\n",
       "      <th>1</th>\n",
       "      <th>2</th>\n",
       "    </tr>\n",
       "  </thead>\n",
       "  <tbody>\n",
       "    <tr>\n",
       "      <th>Código</th>\n",
       "      <td>91</td>\n",
       "      <td>100</td>\n",
       "      <td>564</td>\n",
       "    </tr>\n",
       "    <tr>\n",
       "      <th>Data</th>\n",
       "      <td>2020-09-10 00:00:00</td>\n",
       "      <td>1997-06-01 00:00:00</td>\n",
       "      <td>1999-09-10 00:00:00</td>\n",
       "    </tr>\n",
       "    <tr>\n",
       "      <th>CodConvenio</th>\n",
       "      <td>9.0</td>\n",
       "      <td>13.0</td>\n",
       "      <td>2.0</td>\n",
       "    </tr>\n",
       "    <tr>\n",
       "      <th>HoraConsulta</th>\n",
       "      <td>14:13:35</td>\n",
       "      <td>NaN</td>\n",
       "      <td>18:31:24</td>\n",
       "    </tr>\n",
       "    <tr>\n",
       "      <th>Tipo</th>\n",
       "      <td>1ª vez</td>\n",
       "      <td>Consulta</td>\n",
       "      <td>Retorno</td>\n",
       "    </tr>\n",
       "    <tr>\n",
       "      <th>Valor</th>\n",
       "      <td>107.0</td>\n",
       "      <td>123.0</td>\n",
       "      <td>212.0</td>\n",
       "    </tr>\n",
       "    <tr>\n",
       "      <th>HoraAtendimento</th>\n",
       "      <td>19:00:49</td>\n",
       "      <td>NaN</td>\n",
       "      <td>22:31:27</td>\n",
       "    </tr>\n",
       "    <tr>\n",
       "      <th>HoraFim</th>\n",
       "      <td>22:15:06</td>\n",
       "      <td>NaN</td>\n",
       "      <td>23:11:29</td>\n",
       "    </tr>\n",
       "    <tr>\n",
       "      <th>Usuário</th>\n",
       "      <td>José</td>\n",
       "      <td>Teste 1</td>\n",
       "      <td>Teste 1</td>\n",
       "    </tr>\n",
       "  </tbody>\n",
       "</table>\n",
       "</div>"
      ],
      "text/plain": [
       "                                   0                    1                    2\n",
       "Código                            91                  100                  564\n",
       "Data             2020-09-10 00:00:00  1997-06-01 00:00:00  1999-09-10 00:00:00\n",
       "CodConvenio                      9.0                 13.0                  2.0\n",
       "HoraConsulta                14:13:35                  NaN             18:31:24\n",
       "Tipo                          1ª vez             Consulta              Retorno\n",
       "Valor                          107.0                123.0                212.0\n",
       "HoraAtendimento             19:00:49                  NaN             22:31:27\n",
       "HoraFim                     22:15:06                  NaN             23:11:29\n",
       "Usuário                         José              Teste 1              Teste 1"
      ]
     },
     "execution_count": 17,
     "metadata": {},
     "output_type": "execute_result"
    }
   ],
   "source": [
    "df.head(3).T"
   ]
  },
  {
   "cell_type": "code",
   "execution_count": 18,
   "metadata": {},
   "outputs": [
    {
     "name": "stdout",
     "output_type": "stream",
     "text": [
      "<class 'pandas.core.frame.DataFrame'>\n",
      "RangeIndex: 1230 entries, 0 to 1229\n",
      "Data columns (total 9 columns):\n",
      " #   Column           Non-Null Count  Dtype         \n",
      "---  ------           --------------  -----         \n",
      " 0   Código           1230 non-null   int64         \n",
      " 1   Data             1230 non-null   datetime64[ns]\n",
      " 2   CodConvenio      986 non-null    float64       \n",
      " 3   HoraConsulta     984 non-null    object        \n",
      " 4   Tipo             995 non-null    object        \n",
      " 5   Valor            977 non-null    float64       \n",
      " 6   HoraAtendimento  984 non-null    object        \n",
      " 7   HoraFim          984 non-null    object        \n",
      " 8   Usuário          1230 non-null   object        \n",
      "dtypes: datetime64[ns](1), float64(2), int64(1), object(5)\n",
      "memory usage: 86.6+ KB\n"
     ]
    }
   ],
   "source": [
    "df.info()"
   ]
  },
  {
   "cell_type": "code",
   "execution_count": 19,
   "metadata": {},
   "outputs": [],
   "source": [
    "# Trantando recursos \"HoraConsulta\", \"HoraAtendimento\" e \"HoraFim\"\n",
    "# Como não foi informado a data de entrada, deixaremos só o tempo na coluna de arrival_time\n",
    "df['HoraConsulta'] = pd.to_datetime(df['HoraConsulta'], format='%H:%M:%S').dt.time\n",
    "df['HoraAtendimento'] = pd.to_datetime(df['HoraAtendimento'], format='%H:%M:%S').dt.time\n",
    "df['HoraFim'] = pd.to_datetime(df['HoraFim'], format='%H:%M:%S').dt.time"
   ]
  },
  {
   "cell_type": "code",
   "execution_count": 20,
   "metadata": {},
   "outputs": [],
   "source": [
    "# Tratamento recurso 'patient_name'\n",
    "# Este recurso precisa de informação externa para ser tratado, resumidamente, utilizaremos o índice em \"patient_id\" para localizar o nome do usuário no arquivo \"patient.csv\"\n",
    "df_patient = pd.read_csv('patient.csv', usecols = [\"name\"])"
   ]
  },
  {
   "cell_type": "code",
   "execution_count": 21,
   "metadata": {},
   "outputs": [],
   "source": [
    "# Neste caso, como o 'patient_id' inicia com 0 e está ordenada é fácil de encontrar seu nome correspondente\n",
    "index = df['Código'].values\n",
    "df['patient_name'] = df_patient['name'][index].values"
   ]
  },
  {
   "cell_type": "code",
   "execution_count": 22,
   "metadata": {},
   "outputs": [],
   "source": [
    "# Tratamento recurso \"physician_id\"\n",
    "# Será criado um novo recurso com o nome \"physician_id\", como a seguir:\n",
    "df['physician_id'] = pd.factorize(df['Usuário'])[0].astype(int)\n"
   ]
  },
  {
   "cell_type": "code",
   "execution_count": 33,
   "metadata": {},
   "outputs": [],
   "source": [
    "# Exportando os nomes dos médicos\n",
    "uniques = pd.factorize(df['Usuário'])[1]\n",
    "pd_uniques = pd.DataFrame(data={\"physician_names\": uniques})\n",
    "pd_uniques.to_csv('physician_names.csv',index=False, encoding='utf-8')\n"
   ]
  },
  {
   "cell_type": "code",
   "execution_count": 9,
   "metadata": {},
   "outputs": [],
   "source": [
    "# Tratamento recurso 'eventprocedure_pack'\n",
    "# Será criado um novo recurso, foi utilizado force_ascii para visualizar a escrita de forma correta em utf-8 (não temos a informação 'quantity')\n",
    "df['eventprocedure_pack'] = ('json::['+df[['Tipo','Valor']].apply(lambda x: x.to_json(force_ascii =  False),axis=1)+']')"
   ]
  },
  {
   "cell_type": "code",
   "execution_count": 10,
   "metadata": {},
   "outputs": [],
   "source": [
    "# Colocando o nome das colunas do arquivo de acordo a documentação da iClinic\n",
    "df = df.rename(\n",
    "    columns = {\n",
    "        \"Código\": \"patient_id\",\n",
    "        \"Data\": \"date\",\n",
    "        \"HoraConsulta\": \"arrival_time\",\n",
    "        \"HoraAtendimento\": \"start_time\",\n",
    "        \"HoraFim\": \"end_time\",\n",
    "        \"CodConvenio\": \"healthinsurance_name\",\n",
    "        \"Tipo\": \"name\",\n",
    "        \"Valor\": \"value\",\n",
    "    }\n",
    ")"
   ]
  },
  {
   "cell_type": "code",
   "execution_count": 11,
   "metadata": {},
   "outputs": [],
   "source": [
    "#Adiconando as colunas ausentes\n",
    "df['status'] = 'cp'\n",
    "df['patient_home_phone'] = np.nan\n",
    "df['patient_mobile_phone'] = np.nan\n",
    "df['description'] = np.nan\n",
    "df['all_day'] = np.nan\n",
    "df['cancel_reason'] = np.nan  \n",
    "df['patient_email'] = np.nan  \n",
    "df['event_blocked_scheduling'] = np.nan\n",
    "df['quantity'] = np.nan  "
   ]
  },
  {
   "cell_type": "code",
   "execution_count": 12,
   "metadata": {},
   "outputs": [],
   "source": [
    "df = df.loc[:, [\"patient_id\",\"patient_name\",\"physician_id\",\"date\",\"status\",\"patient_home_phone\",\"patient_mobile_phone\",\"arrival_time\",\"start_time\",\"end_time\",\"description\",\"all_day\",\"cancel_reason\",\"patient_email\",\"event_blocked_scheduling\",\"healthinsurance_name\",\"eventprocedure_pack\"]]"
   ]
  },
  {
   "cell_type": "code",
   "execution_count": 13,
   "metadata": {},
   "outputs": [],
   "source": [
    "df.to_csv('event_scheduling.csv',index=False, encoding='utf-8')\n"
   ]
  }
 ],
 "metadata": {
  "interpreter": {
   "hash": "efaa2df0126d1cfe86bc807cae229c90ce095cf51fbc3c4f46172a2e305a7932"
  },
  "kernelspec": {
   "display_name": "Python 3.8.10 ('venv': venv)",
   "language": "python",
   "name": "python3"
  },
  "language_info": {
   "codemirror_mode": {
    "name": "ipython",
    "version": 3
   },
   "file_extension": ".py",
   "mimetype": "text/x-python",
   "name": "python",
   "nbconvert_exporter": "python",
   "pygments_lexer": "ipython3",
   "version": "3.8.10"
  },
  "orig_nbformat": 4
 },
 "nbformat": 4,
 "nbformat_minor": 2
}
