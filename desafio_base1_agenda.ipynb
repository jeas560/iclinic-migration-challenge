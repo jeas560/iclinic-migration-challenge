{
 "cells": [
  {
   "cell_type": "markdown",
   "metadata": {},
   "source": [
    "## Tratamento do arquivo 'agenda.csv'\n",
    "Neste caderno será apresentada a exploração inicial e tratamento dos dados do arquivo 'agenda.csv'"
   ]
  },
  {
   "cell_type": "markdown",
   "metadata": {},
   "source": [
    "### Importação das bibliotecas\n",
    " \n",
    "A seguir uma breve apresentação de cada biblioteca que será utilizada:\n",
    "\n",
    "- A biblioteca [NumPy](https://numpy.org/) é fundamental para qualquer tipo de computação científica em Python\n",
    "- A biblioteca [pandas](https://pandas.pydata.org/) é a nossa ferramenta pricipal para análise e manipulação de dados"
   ]
  },
  {
   "cell_type": "code",
   "execution_count": 15,
   "metadata": {},
   "outputs": [],
   "source": [
    "import numpy as np\n",
    "import pandas as pd"
   ]
  },
  {
   "cell_type": "markdown",
   "metadata": {},
   "source": [
    "### Leitura e tratamento inicial dos dados de entrada\n",
    "\n",
    "Através da biblioteca `pandas` é realizada a leitura do arquivo '.csv' utilizando a função `read_csv()`, onde cada parâmetro tem o seguinte significado:\n",
    "\n",
    "- `parse_dates=['Data']`: Fazer a importação da coluna `'Data'` como tipo `data hora`\n",
    "- `encoding='iso-8859-1'`: Tipo de `encoding` do arquivo sendo lido\n",
    "- `quotechar='\"'`: O caracter usado para denotar o inicio e fim de um item entre aspas\n",
    "- `delimiter='|'`: delimitador utilizado na escrita do arquivo"
   ]
  },
  {
   "cell_type": "code",
   "execution_count": 16,
   "metadata": {},
   "outputs": [
    {
     "data": {
      "text/plain": [
       "(1230, 9)"
      ]
     },
     "execution_count": 16,
     "metadata": {},
     "output_type": "execute_result"
    }
   ],
   "source": [
    "df = pd.read_csv('desafio-base1/agenda.csv', parse_dates=['Data'], encoding='iso-8859-1', quotechar='\"', delimiter='|')"
   ]
  },
  {
   "cell_type": "markdown",
   "metadata": {},
   "source": [
    "### Visualização dos dados\n",
    "\n",
    "Nas próximas duas células é realizada a visualização inicial dos dados.\n",
    "\n",
    "Usando o método `head()` do `pandas` com um argumento `5` nele é possível visualizar os primeiros `5` registros do Dataframe.\n",
    "    \n",
    "O `.T` significa `Transposição`, desta forma as linhas serão visualizadas como colunas e vice-versa."
   ]
  },
  {
   "cell_type": "code",
   "execution_count": 17,
   "metadata": {},
   "outputs": [
    {
     "data": {
      "text/html": [
       "<div>\n",
       "<style scoped>\n",
       "    .dataframe tbody tr th:only-of-type {\n",
       "        vertical-align: middle;\n",
       "    }\n",
       "\n",
       "    .dataframe tbody tr th {\n",
       "        vertical-align: top;\n",
       "    }\n",
       "\n",
       "    .dataframe thead th {\n",
       "        text-align: right;\n",
       "    }\n",
       "</style>\n",
       "<table border=\"1\" class=\"dataframe\">\n",
       "  <thead>\n",
       "    <tr style=\"text-align: right;\">\n",
       "      <th></th>\n",
       "      <th>0</th>\n",
       "      <th>1</th>\n",
       "      <th>2</th>\n",
       "    </tr>\n",
       "  </thead>\n",
       "  <tbody>\n",
       "    <tr>\n",
       "      <th>Código</th>\n",
       "      <td>91</td>\n",
       "      <td>100</td>\n",
       "      <td>564</td>\n",
       "    </tr>\n",
       "    <tr>\n",
       "      <th>Data</th>\n",
       "      <td>2020-09-10 00:00:00</td>\n",
       "      <td>1997-06-01 00:00:00</td>\n",
       "      <td>1999-09-10 00:00:00</td>\n",
       "    </tr>\n",
       "    <tr>\n",
       "      <th>CodConvenio</th>\n",
       "      <td>9.0</td>\n",
       "      <td>13.0</td>\n",
       "      <td>2.0</td>\n",
       "    </tr>\n",
       "    <tr>\n",
       "      <th>HoraConsulta</th>\n",
       "      <td>14:13:35</td>\n",
       "      <td>NaN</td>\n",
       "      <td>18:31:24</td>\n",
       "    </tr>\n",
       "    <tr>\n",
       "      <th>Tipo</th>\n",
       "      <td>1ª vez</td>\n",
       "      <td>Consulta</td>\n",
       "      <td>Retorno</td>\n",
       "    </tr>\n",
       "    <tr>\n",
       "      <th>Valor</th>\n",
       "      <td>107.0</td>\n",
       "      <td>123.0</td>\n",
       "      <td>212.0</td>\n",
       "    </tr>\n",
       "    <tr>\n",
       "      <th>HoraAtendimento</th>\n",
       "      <td>19:00:49</td>\n",
       "      <td>NaN</td>\n",
       "      <td>22:31:27</td>\n",
       "    </tr>\n",
       "    <tr>\n",
       "      <th>HoraFim</th>\n",
       "      <td>22:15:06</td>\n",
       "      <td>NaN</td>\n",
       "      <td>23:11:29</td>\n",
       "    </tr>\n",
       "    <tr>\n",
       "      <th>Usuário</th>\n",
       "      <td>José</td>\n",
       "      <td>Teste 1</td>\n",
       "      <td>Teste 1</td>\n",
       "    </tr>\n",
       "  </tbody>\n",
       "</table>\n",
       "</div>"
      ],
      "text/plain": [
       "                                   0                    1                    2\n",
       "Código                            91                  100                  564\n",
       "Data             2020-09-10 00:00:00  1997-06-01 00:00:00  1999-09-10 00:00:00\n",
       "CodConvenio                      9.0                 13.0                  2.0\n",
       "HoraConsulta                14:13:35                  NaN             18:31:24\n",
       "Tipo                          1ª vez             Consulta              Retorno\n",
       "Valor                          107.0                123.0                212.0\n",
       "HoraAtendimento             19:00:49                  NaN             22:31:27\n",
       "HoraFim                     22:15:06                  NaN             23:11:29\n",
       "Usuário                         José              Teste 1              Teste 1"
      ]
     },
     "execution_count": 17,
     "metadata": {},
     "output_type": "execute_result"
    }
   ],
   "source": [
    "df.head(5).T"
   ]
  },
  {
   "cell_type": "markdown",
   "metadata": {},
   "source": [
    "O método `info()` do `pandas` apresenta um resumo dos dados no Dataframe, uma informação interessante é o tipo de dado de cada recurso."
   ]
  },
  {
   "cell_type": "code",
   "execution_count": 18,
   "metadata": {},
   "outputs": [
    {
     "name": "stdout",
     "output_type": "stream",
     "text": [
      "<class 'pandas.core.frame.DataFrame'>\n",
      "RangeIndex: 1230 entries, 0 to 1229\n",
      "Data columns (total 9 columns):\n",
      " #   Column           Non-Null Count  Dtype         \n",
      "---  ------           --------------  -----         \n",
      " 0   Código           1230 non-null   int64         \n",
      " 1   Data             1230 non-null   datetime64[ns]\n",
      " 2   CodConvenio      986 non-null    float64       \n",
      " 3   HoraConsulta     984 non-null    object        \n",
      " 4   Tipo             995 non-null    object        \n",
      " 5   Valor            977 non-null    float64       \n",
      " 6   HoraAtendimento  984 non-null    object        \n",
      " 7   HoraFim          984 non-null    object        \n",
      " 8   Usuário          1230 non-null   object        \n",
      "dtypes: datetime64[ns](1), float64(2), int64(1), object(5)\n",
      "memory usage: 86.6+ KB\n"
     ]
    }
   ],
   "source": [
    "df.info()"
   ]
  },
  {
   "cell_type": "markdown",
   "metadata": {},
   "source": [
    "## Limpeza e tratamento dos dados\n",
    "\n",
    "A seguir será realizada a limpeza e tratamento dos dados.\n",
    "\n",
    "### Valores ausentes, valores equivalentes e tratamento inicial\n",
    "\n",
    "Quando utilizamos o método `info()` para ver o resumo dos dados, foi possível ver que muitas colunas tinham muitos dados ausentes, entrentanto, na documentação da iClinic é possível ver que os campos `patient_name`, `physician_id` e `date` são obrigatórios e no Dataset anterior as colunas `Usuário`, `Código` e `Data` são seus equivalentes, ainda, estas são as únicas colunas que não tem valores nulos nos seus registros, logo, a priori, não será necessário um maior tratamento para cumprir as condições obrigatórias.\n",
    "\n",
    "O tratamento de algumas colunas será realizado em seguida, mas quando o tratamento necessário for apenas na mudança nos nomes entre os recursos equivalentes, este será realizada no final, já que não é relevante para o tratamento inicial.\n",
    "\n",
    "Alguns dos recursos precisarão de uma atenção ou tratamento mais detalhada, são estes: \"Tipo\" e \"Valor\"."
   ]
  },
  {
   "cell_type": "markdown",
   "metadata": {},
   "source": [
    "### Tratamento dos recursos 'HoraConsulta', 'HoraAtendimento' e 'HoraFim'\n",
    " \n",
    "Nestes recursos será realizada apenas a formatação das horas como solicitado no padrão iClinic, ainda, o author não conseguiu perceber ou encontrar o valor para a 'data de entrada', pelo que será deixado apenas o tempo na coluna do recurso 'HoraConsulta', como mostrado a seguir:\n"
   ]
  },
  {
   "cell_type": "code",
   "execution_count": 19,
   "metadata": {},
   "outputs": [],
   "source": [
    "df['HoraConsulta'] = pd.to_datetime(df['HoraConsulta'], format='%H:%M:%S').dt.time\n",
    "df['HoraAtendimento'] = pd.to_datetime(df['HoraAtendimento'], format='%H:%M:%S').dt.time\n",
    "df['HoraFim'] = pd.to_datetime(df['HoraFim'], format='%H:%M:%S').dt.time"
   ]
  },
  {
   "cell_type": "markdown",
   "metadata": {},
   "source": [
    "### Tratamento do recurso 'patient_name'\n",
    "\n",
    "Este recurso precisa de informação externa para ser tratado, pelo que, após a importação do arquivo \"patient.csv\", onde está pode ser encontrada dentre outras informações, o nome do paciente, será utilizado o índice 'patient_id' para localizar o nome de cada usuário."
   ]
  },
  {
   "cell_type": "code",
   "execution_count": 20,
   "metadata": {},
   "outputs": [],
   "source": [
    "df_patient = pd.read_csv('desafio-base1-output/patient.csv', usecols = [\"name\"])"
   ]
  },
  {
   "cell_type": "markdown",
   "metadata": {},
   "source": [
    "Repare que estamos utilizando o arquivo com os dados tratados anteriormente.\n",
    "Neste caso, como o 'patient_id' inicia com 0 e está ordenada é fácil de encontrar seu nome correspondente."
   ]
  },
  {
   "cell_type": "code",
   "execution_count": 21,
   "metadata": {},
   "outputs": [],
   "source": [
    "index = df['Código'].values\n",
    "df['patient_name'] = df_patient['name'][index].values"
   ]
  },
  {
   "cell_type": "markdown",
   "metadata": {},
   "source": [
    "### Tratamento do recurso 'physician_id'\n",
    "\n",
    "Será criado um novo recurso com o nome 'physician_id', como a seguir:"
   ]
  },
  {
   "cell_type": "code",
   "execution_count": 22,
   "metadata": {},
   "outputs": [],
   "source": [
    "df['physician_id'] = pd.factorize(df['Usuário'])[0].astype(int)"
   ]
  },
  {
   "cell_type": "markdown",
   "metadata": {},
   "source": [
    "O método `factorize(df['Usuário'])` realiza o mapeamento dos valores do recurso, dando um número para cada usuário em `df['Usuário']` de forma sequencial."
   ]
  },
  {
   "cell_type": "markdown",
   "metadata": {},
   "source": [
    "### Exportação dos nomes dos médicos\n",
    "\n",
    "Aqui o autor achou interessante criar uma lista relacionando o nome do médico e seu 'physician_id' do médico para futuro tratamento, a seguir será exportado um arquivo `.csv` com os nomes dos médicos de forma ordenada."
   ]
  },
  {
   "cell_type": "code",
   "execution_count": 33,
   "metadata": {},
   "outputs": [],
   "source": [
    "uniques = pd.factorize(df['Usuário'])[1]\n",
    "pd_uniques = pd.DataFrame(data={\"physician_names\": uniques})\n",
    "pd_uniques.to_csv('desafio-base1-output/physician_names.csv',index=False, encoding='utf-8')"
   ]
  },
  {
   "cell_type": "markdown",
   "metadata": {},
   "source": [
    "### Tratando o recurso 'CodConvenio'\n",
    " \n",
    "Não foi possível tratar este recurso pela falta dos nomes dos convênios, mas é importante enfatizar que o tratamento deste rescurso seria semelhante ao realizado no caderno anterior na seção `Tratando o recurso 'EstadoCivil'`."
   ]
  },
  {
   "cell_type": "markdown",
   "metadata": {},
   "source": [
    "### Tratamento do recurso 'eventprocedure_pack'\n",
    "\n",
    "Será criado um novo recurso com o nome 'eventprocedure_pack', possuira uma string em formato `json`, pelo que será utilizado o método `to_json` nas colunas 'Tipo' e 'Valor'.\n",
    "\n",
    "Neste caso foi utilizado parâmetro `force_ascii = False` para visualizar a escrita de forma correta em `utf-8`.\n",
    "\n",
    "Além disso, como não foi possível obter infromação sobre o recurso 'quantity', não será colocado nada no lugar."
   ]
  },
  {
   "cell_type": "code",
   "execution_count": 9,
   "metadata": {},
   "outputs": [],
   "source": [
    "df['eventprocedure_pack'] = ('json::['+df[['Tipo','Valor']].apply(lambda x: x.to_json(force_ascii =  False),axis=1)+']')"
   ]
  },
  {
   "cell_type": "markdown",
   "metadata": {},
   "source": [
    "### Mudança de nome das colunas para o padrão iClinic\n",
    "\n",
    "Em seguida será realizada a mudança no nome dos recursos no Dataset anterior para os nomes equivalente ao padrão iClinic:"
   ]
  },
  {
   "cell_type": "code",
   "execution_count": 10,
   "metadata": {},
   "outputs": [],
   "source": [
    "df = df.rename(\n",
    "    columns = {\n",
    "        \"Código\": \"patient_id\",\n",
    "        \"Data\": \"date\",\n",
    "        \"HoraConsulta\": \"arrival_time\",\n",
    "        \"HoraAtendimento\": \"start_time\",\n",
    "        \"HoraFim\": \"end_time\",\n",
    "        \"CodConvenio\": \"healthinsurance_name\",\n",
    "        \"Tipo\": \"name\",\n",
    "        \"Valor\": \"value\",\n",
    "    }\n",
    ")"
   ]
  },
  {
   "cell_type": "markdown",
   "metadata": {},
   "source": [
    "### Adição de recursos ausentes"
   ]
  },
  {
   "cell_type": "code",
   "execution_count": 11,
   "metadata": {},
   "outputs": [],
   "source": [
    "df['status'] = 'cp'\n",
    "df['patient_home_phone'] = np.nan\n",
    "df['patient_mobile_phone'] = np.nan\n",
    "df['description'] = np.nan\n",
    "df['all_day'] = np.nan\n",
    "df['cancel_reason'] = np.nan  \n",
    "df['patient_email'] = np.nan  \n",
    "df['event_blocked_scheduling'] = np.nan\n",
    "df['quantity'] = np.nan  "
   ]
  },
  {
   "cell_type": "markdown",
   "metadata": {},
   "source": [
    "### Remoção de recursos repetidos ou não necessários\n",
    "\n",
    "A seguir, serão removidos os recursos repetidos ou que não são mais necessários:"
   ]
  },
  {
   "cell_type": "code",
   "execution_count": 12,
   "metadata": {},
   "outputs": [],
   "source": [
    "df = df.loc[:, [\"patient_id\",\"patient_name\",\"physician_id\",\"date\",\"status\",\"patient_home_phone\",\"patient_mobile_phone\",\"arrival_time\",\"start_time\",\"end_time\",\"description\",\"all_day\",\"cancel_reason\",\"patient_email\",\"event_blocked_scheduling\",\"healthinsurance_name\",\"eventprocedure_pack\"]]"
   ]
  },
  {
   "cell_type": "markdown",
   "metadata": {},
   "source": [
    "## Exportação do arquivo de saída\n",
    "\n",
    "Como solicitado no desafio, o arquivo de saída será gerado com o conjunto de caracteres `UTF-8`:"
   ]
  },
  {
   "cell_type": "code",
   "execution_count": 13,
   "metadata": {},
   "outputs": [],
   "source": [
    "df.to_csv('desafio-base1-output/event_scheduling.csv',index=False, encoding='utf-8')"
   ]
  }
 ],
 "metadata": {
  "interpreter": {
   "hash": "efaa2df0126d1cfe86bc807cae229c90ce095cf51fbc3c4f46172a2e305a7932"
  },
  "kernelspec": {
   "display_name": "Python 3.8.10 ('venv': venv)",
   "language": "python",
   "name": "python3"
  },
  "language_info": {
   "codemirror_mode": {
    "name": "ipython",
    "version": 3
   },
   "file_extension": ".py",
   "mimetype": "text/x-python",
   "name": "python",
   "nbconvert_exporter": "python",
   "pygments_lexer": "ipython3",
   "version": "3.8.10"
  },
  "orig_nbformat": 4
 },
 "nbformat": 4,
 "nbformat_minor": 2
}
