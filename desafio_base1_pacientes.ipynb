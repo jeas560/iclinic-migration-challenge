{
 "cells": [
  {
   "cell_type": "markdown",
   "metadata": {},
   "source": [
    "## Tratamento do arquivo 'pacientes.csv'\n",
    "Neste caderno será apresentada a exploração inicial e tratamento dos dos dados do arquivo 'pacientes.csv'"
   ]
  },
  {
   "cell_type": "markdown",
   "metadata": {},
   "source": [
    "### Importação das bibliotecas\n",
    " \n",
    "A seguir uma breve apresentação de cada biblioteca que será utilizada:\n",
    "\n",
    "- A biblioteca [NumPy](https://numpy.org/) é fundamental para qualquer tipo de computação científica em Python\n",
    "- A biblioteca [pandas](https://pandas.pydata.org/) é a nossa ferramenta pricipal para análise e manipulação de dados"
   ]
  },
  {
   "cell_type": "code",
   "execution_count": 1,
   "metadata": {},
   "outputs": [],
   "source": [
    "import numpy as np\n",
    "import pandas as pd"
   ]
  },
  {
   "cell_type": "markdown",
   "metadata": {},
   "source": [
    "### Leitura e tratamento inicial dos dados de entrada\n",
    "\n",
    "Através da biblioteca `pandas` é realizada a leitura do arquivo '.csv' utilizando a função `read_csv()`, onde cada parâmetro tem o seguinte significado:\n",
    "\n",
    "- `parse_dates=['DataNasc']`: Fazer a importação da coluna `'DataNasc'` como tipo `data hora`\n",
    "- `encoding='iso-8859-1'`: Tipo de `encoding` do arquivo sendo lido\n",
    "- `quotechar='\"'`: O caracter usado para denotar o inicio e fim de um item entre aspas\n",
    "- `delimiter='|'`: delimitador utilizado na escrita do arquivo"
   ]
  },
  {
   "cell_type": "code",
   "execution_count": 2,
   "metadata": {},
   "outputs": [],
   "source": [
    "df = pd.read_csv('desafio-base1/pacientes.csv', parse_dates=['DataNasc'], encoding='iso-8859-1', quotechar='\"', delimiter='|')"
   ]
  },
  {
   "cell_type": "markdown",
   "metadata": {},
   "source": [
    "### Visualização dos dados\n",
    "\n",
    "Nas próximas duas células é realizada a visualização inicial dos dados.\n",
    "\n",
    "Usando o método `head()` do `pandas` com um argumento `5` nele é possível visualizar os primeiros `5` registros do Dataframe.\n",
    "    \n",
    "O `.T` significa `Transposição`, desta forma as linhas serão visualizadas como colunas e vice-versa.\n"
   ]
  },
  {
   "cell_type": "code",
   "execution_count": 3,
   "metadata": {},
   "outputs": [
    {
     "data": {
      "text/html": [
       "<div>\n",
       "<style scoped>\n",
       "    .dataframe tbody tr th:only-of-type {\n",
       "        vertical-align: middle;\n",
       "    }\n",
       "\n",
       "    .dataframe tbody tr th {\n",
       "        vertical-align: top;\n",
       "    }\n",
       "\n",
       "    .dataframe thead th {\n",
       "        text-align: right;\n",
       "    }\n",
       "</style>\n",
       "<table border=\"1\" class=\"dataframe\">\n",
       "  <thead>\n",
       "    <tr style=\"text-align: right;\">\n",
       "      <th></th>\n",
       "      <th>0</th>\n",
       "      <th>1</th>\n",
       "      <th>2</th>\n",
       "      <th>3</th>\n",
       "      <th>4</th>\n",
       "    </tr>\n",
       "  </thead>\n",
       "  <tbody>\n",
       "    <tr>\n",
       "      <th>Código</th>\n",
       "      <td>0</td>\n",
       "      <td>1</td>\n",
       "      <td>2</td>\n",
       "      <td>3</td>\n",
       "      <td>4</td>\n",
       "    </tr>\n",
       "    <tr>\n",
       "      <th>Nome</th>\n",
       "      <td>Pedro Henrique Porto</td>\n",
       "      <td>João Vitor da Paz</td>\n",
       "      <td>Theo Nunes</td>\n",
       "      <td>Isis da Rosa</td>\n",
       "      <td>Srta. Beatriz Santos</td>\n",
       "    </tr>\n",
       "    <tr>\n",
       "      <th>DataNasc</th>\n",
       "      <td>NaT</td>\n",
       "      <td>1996-01-01 00:00:00</td>\n",
       "      <td>1959-01-01 00:00:00</td>\n",
       "      <td>1983-01-01 00:00:00</td>\n",
       "      <td>NaT</td>\n",
       "    </tr>\n",
       "    <tr>\n",
       "      <th>Sexo</th>\n",
       "      <td>M</td>\n",
       "      <td>M</td>\n",
       "      <td>NaN</td>\n",
       "      <td>NaN</td>\n",
       "      <td>F</td>\n",
       "    </tr>\n",
       "    <tr>\n",
       "      <th>Estado</th>\n",
       "      <td>RJ</td>\n",
       "      <td>AP</td>\n",
       "      <td>NaN</td>\n",
       "      <td>NaN</td>\n",
       "      <td>MA</td>\n",
       "    </tr>\n",
       "    <tr>\n",
       "      <th>Endereco</th>\n",
       "      <td>Quadra Caroline Dias, 482, Salgado Filho</td>\n",
       "      <td>Setor Nunes, Santa Lúcia</td>\n",
       "      <td>NaN</td>\n",
       "      <td>NaN</td>\n",
       "      <td>Favela de Peixoto, 43, Pantanal</td>\n",
       "    </tr>\n",
       "    <tr>\n",
       "      <th>Cidade</th>\n",
       "      <td>Ramos</td>\n",
       "      <td>Nogueira</td>\n",
       "      <td>NaN</td>\n",
       "      <td>NaN</td>\n",
       "      <td>Barros de Moreira</td>\n",
       "    </tr>\n",
       "    <tr>\n",
       "      <th>CEP</th>\n",
       "      <td>31924-681</td>\n",
       "      <td>28517-970</td>\n",
       "      <td>NaN</td>\n",
       "      <td>NaN</td>\n",
       "      <td>59801-069</td>\n",
       "    </tr>\n",
       "    <tr>\n",
       "      <th>Naturalidade</th>\n",
       "      <td>Campos do Amparo</td>\n",
       "      <td>Araújo</td>\n",
       "      <td>Lopes</td>\n",
       "      <td>NaN</td>\n",
       "      <td>Peixoto</td>\n",
       "    </tr>\n",
       "    <tr>\n",
       "      <th>Telefone</th>\n",
       "      <td>(021) 9313-9128</td>\n",
       "      <td>(021) 5202 2566</td>\n",
       "      <td>NaN</td>\n",
       "      <td>NaN</td>\n",
       "      <td>NaN</td>\n",
       "    </tr>\n",
       "    <tr>\n",
       "      <th>TipoTelefone</th>\n",
       "      <td>T</td>\n",
       "      <td>T</td>\n",
       "      <td>NaN</td>\n",
       "      <td>NaN</td>\n",
       "      <td>NaN</td>\n",
       "    </tr>\n",
       "    <tr>\n",
       "      <th>Profissao</th>\n",
       "      <td>Reumatologista</td>\n",
       "      <td>Fotógrafo</td>\n",
       "      <td>Atendente</td>\n",
       "      <td>Encarregado de manutenção predial</td>\n",
       "      <td>Psicólogo</td>\n",
       "    </tr>\n",
       "    <tr>\n",
       "      <th>Pai</th>\n",
       "      <td>Diego Silveira</td>\n",
       "      <td>André Campos</td>\n",
       "      <td>Eduardo Lima</td>\n",
       "      <td>NaN</td>\n",
       "      <td>NaN</td>\n",
       "    </tr>\n",
       "    <tr>\n",
       "      <th>Mae</th>\n",
       "      <td>Emanuella Lima</td>\n",
       "      <td>Isabel Gomes</td>\n",
       "      <td>Brenda Mendes</td>\n",
       "      <td>Rebeca da Rocha</td>\n",
       "      <td>Gabrielly da Costa</td>\n",
       "    </tr>\n",
       "    <tr>\n",
       "      <th>Conjuge</th>\n",
       "      <td>Lorenzo Silveira</td>\n",
       "      <td>Pietra Pereira</td>\n",
       "      <td>Marcos Vinicius Aragão</td>\n",
       "      <td>Raquel Castro</td>\n",
       "      <td>NaN</td>\n",
       "    </tr>\n",
       "    <tr>\n",
       "      <th>ProfissaoConjuge</th>\n",
       "      <td>Juiz ou árbitro de futebol</td>\n",
       "      <td>Astrônomo</td>\n",
       "      <td>Armador</td>\n",
       "      <td>Assistente administrativo</td>\n",
       "      <td>NaN</td>\n",
       "    </tr>\n",
       "    <tr>\n",
       "      <th>Cor</th>\n",
       "      <td>NaN</td>\n",
       "      <td>B</td>\n",
       "      <td>I</td>\n",
       "      <td>A</td>\n",
       "      <td>P</td>\n",
       "    </tr>\n",
       "    <tr>\n",
       "      <th>EstadoCivil</th>\n",
       "      <td>NaN</td>\n",
       "      <td>VI</td>\n",
       "      <td>NaN</td>\n",
       "      <td>NaN</td>\n",
       "      <td>ES</td>\n",
       "    </tr>\n",
       "  </tbody>\n",
       "</table>\n",
       "</div>"
      ],
      "text/plain": [
       "                                                         0  \\\n",
       "Código                                                   0   \n",
       "Nome                                  Pedro Henrique Porto   \n",
       "DataNasc                                               NaT   \n",
       "Sexo                                                     M   \n",
       "Estado                                                  RJ   \n",
       "Endereco          Quadra Caroline Dias, 482, Salgado Filho   \n",
       "Cidade                                               Ramos   \n",
       "CEP                                              31924-681   \n",
       "Naturalidade                              Campos do Amparo   \n",
       "Telefone                                   (021) 9313-9128   \n",
       "TipoTelefone                                             T   \n",
       "Profissao                                   Reumatologista   \n",
       "Pai                                         Diego Silveira   \n",
       "Mae                                         Emanuella Lima   \n",
       "Conjuge                                   Lorenzo Silveira   \n",
       "ProfissaoConjuge                Juiz ou árbitro de futebol   \n",
       "Cor                                                    NaN   \n",
       "EstadoCivil                                            NaN   \n",
       "\n",
       "                                         1                       2  \\\n",
       "Código                                   1                       2   \n",
       "Nome                     João Vitor da Paz              Theo Nunes   \n",
       "DataNasc               1996-01-01 00:00:00     1959-01-01 00:00:00   \n",
       "Sexo                                     M                     NaN   \n",
       "Estado                                  AP                     NaN   \n",
       "Endereco          Setor Nunes, Santa Lúcia                     NaN   \n",
       "Cidade                            Nogueira                     NaN   \n",
       "CEP                              28517-970                     NaN   \n",
       "Naturalidade                        Araújo                   Lopes   \n",
       "Telefone                   (021) 5202 2566                     NaN   \n",
       "TipoTelefone                             T                     NaN   \n",
       "Profissao                        Fotógrafo               Atendente   \n",
       "Pai                           André Campos            Eduardo Lima   \n",
       "Mae                           Isabel Gomes           Brenda Mendes   \n",
       "Conjuge                     Pietra Pereira  Marcos Vinicius Aragão   \n",
       "ProfissaoConjuge                 Astrônomo                 Armador   \n",
       "Cor                                      B                       I   \n",
       "EstadoCivil                             VI                     NaN   \n",
       "\n",
       "                                                  3  \\\n",
       "Código                                            3   \n",
       "Nome                                   Isis da Rosa   \n",
       "DataNasc                        1983-01-01 00:00:00   \n",
       "Sexo                                            NaN   \n",
       "Estado                                          NaN   \n",
       "Endereco                                        NaN   \n",
       "Cidade                                          NaN   \n",
       "CEP                                             NaN   \n",
       "Naturalidade                                    NaN   \n",
       "Telefone                                        NaN   \n",
       "TipoTelefone                                    NaN   \n",
       "Profissao         Encarregado de manutenção predial   \n",
       "Pai                                             NaN   \n",
       "Mae                                 Rebeca da Rocha   \n",
       "Conjuge                               Raquel Castro   \n",
       "ProfissaoConjuge          Assistente administrativo   \n",
       "Cor                                               A   \n",
       "EstadoCivil                                     NaN   \n",
       "\n",
       "                                                4  \n",
       "Código                                          4  \n",
       "Nome                         Srta. Beatriz Santos  \n",
       "DataNasc                                      NaT  \n",
       "Sexo                                            F  \n",
       "Estado                                         MA  \n",
       "Endereco          Favela de Peixoto, 43, Pantanal  \n",
       "Cidade                          Barros de Moreira  \n",
       "CEP                                     59801-069  \n",
       "Naturalidade                              Peixoto  \n",
       "Telefone                                      NaN  \n",
       "TipoTelefone                                  NaN  \n",
       "Profissao                               Psicólogo  \n",
       "Pai                                           NaN  \n",
       "Mae                            Gabrielly da Costa  \n",
       "Conjuge                                       NaN  \n",
       "ProfissaoConjuge                              NaN  \n",
       "Cor                                             P  \n",
       "EstadoCivil                                    ES  "
      ]
     },
     "execution_count": 3,
     "metadata": {},
     "output_type": "execute_result"
    }
   ],
   "source": [
    "df.head(5).T"
   ]
  },
  {
   "cell_type": "markdown",
   "metadata": {},
   "source": [
    "O método `info()` do `pandas` apresenta um resumo dos dados no Dataframe, uma informação interessante é o tipo de dado de cada recurso."
   ]
  },
  {
   "cell_type": "code",
   "execution_count": 4,
   "metadata": {},
   "outputs": [
    {
     "name": "stdout",
     "output_type": "stream",
     "text": [
      "<class 'pandas.core.frame.DataFrame'>\n",
      "RangeIndex: 783 entries, 0 to 782\n",
      "Data columns (total 18 columns):\n",
      " #   Column            Non-Null Count  Dtype         \n",
      "---  ------            --------------  -----         \n",
      " 0   Código            783 non-null    int64         \n",
      " 1   Nome              783 non-null    object        \n",
      " 2   DataNasc          635 non-null    datetime64[ns]\n",
      " 3   Sexo              632 non-null    object        \n",
      " 4   Estado            632 non-null    object        \n",
      " 5   Endereco          632 non-null    object        \n",
      " 6   Cidade            632 non-null    object        \n",
      " 7   CEP               632 non-null    object        \n",
      " 8   Naturalidade      643 non-null    object        \n",
      " 9   Telefone          615 non-null    object        \n",
      " 10  TipoTelefone      615 non-null    object        \n",
      " 11  Profissao         629 non-null    object        \n",
      " 12  Pai               622 non-null    object        \n",
      " 13  Mae               633 non-null    object        \n",
      " 14  Conjuge           639 non-null    object        \n",
      " 15  ProfissaoConjuge  639 non-null    object        \n",
      " 16  Cor               631 non-null    object        \n",
      " 17  EstadoCivil       634 non-null    object        \n",
      "dtypes: datetime64[ns](1), int64(1), object(16)\n",
      "memory usage: 110.2+ KB\n"
     ]
    }
   ],
   "source": [
    "df.info()"
   ]
  },
  {
   "cell_type": "markdown",
   "metadata": {},
   "source": [
    "## Limpeza e tratamento dos dados\n",
    "\n",
    "A seguir será realizada a limpeza e tratamento dos dados.\n",
    "\n",
    "### Valores ausentes, valores equivalentes e tratamento inicial\n",
    "\n",
    "Quando utilizado o método `info()` para ver o resumo dos dados, foi possível ver que muitas colunas tinham muitos dados ausentes, entrentanto, na documentação da iClinic é possível ver que os campos `Nome` e `birth_date` são obrigatórios e no Dataset anterior as colunas `Nome` e `DataNasc` são seus equivalentes, ainda, a coluna `DataNasc` tem valores nulos nos seus registros, logo, será necessário um tratamento para cumprir as condições obrigatórias.\n",
    "Este será um dos últimos passos no tratamento dos dados.\n",
    "\n",
    "O tratamento de algumas colunas será realizado em seguida, mas quando o tratamento necessário for apenas na mudança nos nomes entre os recursos equivalentes, este será realizada no final, já que não é relevante para o tratamento inicial.\n",
    "\n",
    "Alguns dos recursos precisarão de uma atenção ou tratamento mais detalhada, são estes: \"Telefone\", \"TipoTelefone\" e \"Endereco\".\n",
    "\n",
    "Além desses recursos, no arquivo lido tem informação adicional que pode ser colocado na coluna \"observation\", mas devido ao tempo não foi possível de ser concluído, são estas \"Conjuge\", \"ProfissaoConjuge\""
   ]
  },
  {
   "cell_type": "markdown",
   "metadata": {},
   "source": [
    "### Trantamento do recurso 'Sexo'\n",
    "\n",
    "Para tratar esta coluna é necessário saber quais as categorias utilizadas para classificar o genero do paciente no Dataset anterior, assim, utilizaremos a seguinte linha de código:"
   ]
  },
  {
   "cell_type": "code",
   "execution_count": 5,
   "metadata": {},
   "outputs": [
    {
     "data": {
      "text/plain": [
       "M    329\n",
       "F    303\n",
       "Name: Sexo, dtype: int64"
      ]
     },
     "execution_count": 5,
     "metadata": {},
     "output_type": "execute_result"
    }
   ],
   "source": [
    "df['Sexo'].value_counts()"
   ]
  },
  {
   "cell_type": "markdown",
   "metadata": {},
   "source": [
    "É possível observar os valores equivalentes no padrão iClinic:\n",
    "\n",
    "- F : femino : f\n",
    "- M : masculino : m\n",
    "\n",
    "Inicialmente foram testadas algumas ideias mais simples, mas não resultaram sendo corretas.\n",
    "\n",
    "A primeira consistiu em transformar as strings dentro da coluna 'Sexo' em minúscula:\n",
    "```python\n",
    "df['Sexo'] = df['Sexo'].astype(str).str.lower()\n",
    "```\n",
    "Porém, os valores 'NaN' eram modificados para 'nan', perdendo o seu significado original.\n",
    "\n",
    "Outra alternativa foi utilizar list comprehension do próprio python, conseguindo contornar o problema de modificar o valor 'NaN':\n",
    "```python\n",
    "df['Sexo'] = ['m' if x == 'M' else 'f' if x == 'F' else np.nan for x in df['Sexo']]\n",
    "#%timeit 594 µs ± 23.4 µs per loop (mean ± std. dev. of 7 runs, 1,000 loops each)\n",
    "```\n",
    "\n",
    "Finalmente, a seguinte alternativa foi a utilizada pois apresentava uma maior velocidade de processamento quando comparada a anterior.\n",
    "```python\n",
    "df['Sexo'] = df['Sexo'].replace(sexo)\n",
    "#%timeit 694 µs ± 14.4 µs per loop (mean ± std. dev. of 7 runs, 1,000 loops each)\n",
    "```\n",
    "sendo o dictionary `sexo` definido como a seguir:"
   ]
  },
  {
   "cell_type": "code",
   "execution_count": 6,
   "metadata": {},
   "outputs": [],
   "source": [
    "sexo = {\n",
    "    'M': 'm', \n",
    "    'F': 'f'\n",
    "}"
   ]
  },
  {
   "cell_type": "code",
   "execution_count": 7,
   "metadata": {},
   "outputs": [],
   "source": [
    "df['Sexo'] = df['Sexo'].replace(sexo)"
   ]
  },
  {
   "cell_type": "markdown",
   "metadata": {},
   "source": [
    "### Trantamento do recurso 'Estado'\n",
    "\n",
    "A fim de verificar se a coluna continha apenas os valores das siglas de cada estado, assim, foi criado uma lista contendo os valores possíveis:"
   ]
  },
  {
   "cell_type": "code",
   "execution_count": 8,
   "metadata": {},
   "outputs": [],
   "source": [
    "uf = [np.nan,'RO', 'AC', 'AM', 'RR', 'PA', 'AP', 'TO', 'MA', 'PI', 'CE', 'RN', 'PB', 'PE', 'AL', 'SE', 'BA', 'MG', 'ES', 'RJ', 'SP', 'PR', 'SC', 'RS', 'MS', 'MT', 'GO', 'DF']"
   ]
  },
  {
   "cell_type": "markdown",
   "metadata": {},
   "source": [
    "Em seguida, foi necessário realizar um pré processamento da coluna `df['Estado']`, retirando os espaços a mais nas strings armazenadas:"
   ]
  },
  {
   "cell_type": "code",
   "execution_count": 9,
   "metadata": {},
   "outputs": [],
   "source": [
    "df['Estado'] = [x.strip() if type(x) == str else np.nan for x in df['Estado']]"
   ]
  },
  {
   "cell_type": "markdown",
   "metadata": {},
   "source": [
    "Finalmente, é realizada a validação através do comando `isin()` e `value_counts()`, como a seguir:"
   ]
  },
  {
   "cell_type": "code",
   "execution_count": 10,
   "metadata": {},
   "outputs": [
    {
     "data": {
      "text/plain": [
       "True    783\n",
       "Name: Estado, dtype: int64"
      ]
     },
     "execution_count": 10,
     "metadata": {},
     "output_type": "execute_result"
    }
   ],
   "source": [
    "df['Estado'].isin(uf).value_counts()"
   ]
  },
  {
   "cell_type": "markdown",
   "metadata": {},
   "source": [
    "Caso existisse algum valor que não se encontrasse na lista `uf` apareceria como `False`, como não é o caso, não será necessário realizar algum pós-processamento."
   ]
  },
  {
   "cell_type": "markdown",
   "metadata": {},
   "source": [
    "### Trantamento do recurso 'CEP'\n",
    "\n",
    "Foi percebido que nem todos os valores armazenado se encontram na formatação desejada, a principal diferença notada foi a falta do hífen dividindo os números, sendo assim será realizado o mapemento dos valores que contém ele a fim de modificar os valores que não o possuem: "
   ]
  },
  {
   "cell_type": "code",
   "execution_count": 11,
   "metadata": {},
   "outputs": [],
   "source": [
    "rows_with_dashes = df['CEP'].str.contains('-')\n",
    "df['CEP'] = [df['CEP'][i] if x == True else df['CEP'][i][:5]+'-'+df['CEP'][i][5:] if x == False else np.nan for i, x in enumerate(rows_with_dashes)]"
   ]
  },
  {
   "cell_type": "markdown",
   "metadata": {},
   "source": [
    "### Trantamento do recurso 'EstadoCivil'\n",
    "\n",
    "Para tratar esta coluna é necessário saber quais as categorias utilizadas para classificar o estado civil do paciente no Dataset anterior, assim, utilizaremos a seguinte linha de código:"
   ]
  },
  {
   "cell_type": "code",
   "execution_count": 12,
   "metadata": {},
   "outputs": [
    {
     "data": {
      "text/plain": [
       "CA    187\n",
       "ES    170\n",
       "VI    145\n",
       "SE    132\n",
       "Name: EstadoCivil, dtype: int64"
      ]
     },
     "execution_count": 12,
     "metadata": {},
     "output_type": "execute_result"
    }
   ],
   "source": [
    "df['EstadoCivil'].value_counts()"
   ]
  },
  {
   "cell_type": "markdown",
   "metadata": {},
   "source": [
    "É possível observar os valores equivalentes no padrão iClinic:\n",
    "\n",
    "- CA : casado : ma\n",
    "- ES : união estável : st\n",
    "- VI : Viúvo : wi\n",
    "- SE : Separado : se\n",
    "\n",
    "Em seguida é aplicado o seguinte comando para fazer a substituição das categorias:"
   ]
  },
  {
   "cell_type": "code",
   "execution_count": 13,
   "metadata": {},
   "outputs": [],
   "source": [
    "estadocivil = {\n",
    "    'CA': 'ma',\n",
    "    'ES': 'st',\n",
    "    'VI': 'wi',\n",
    "    'SE': 'se'\n",
    "}"
   ]
  },
  {
   "cell_type": "code",
   "execution_count": 14,
   "metadata": {},
   "outputs": [],
   "source": [
    "df['EstadoCivil'] = df['EstadoCivil'].replace(estadocivil)"
   ]
  },
  {
   "cell_type": "markdown",
   "metadata": {},
   "source": [
    "### Trantamento do recurso 'Cor'\n",
    "\n",
    "Para tratar esta coluna também será necessário saber quais as categorias utilizadas para classificar a cor do paciente no Dataset anterior, assim, analogamente ao realizado no caso anterior:"
   ]
  },
  {
   "cell_type": "code",
   "execution_count": 15,
   "metadata": {},
   "outputs": [
    {
     "data": {
      "text/plain": [
       "B    132\n",
       "A    131\n",
       "P    127\n",
       "N    127\n",
       "I    114\n",
       "Name: Cor, dtype: int64"
      ]
     },
     "execution_count": 15,
     "metadata": {},
     "output_type": "execute_result"
    }
   ],
   "source": [
    "df['Cor'].value_counts()"
   ]
  },
  {
   "cell_type": "markdown",
   "metadata": {},
   "source": [
    "Como realizado anteriormente, serão substituidas as categorias pelas suas equivalentes no padrão iClinic, como a seguir:\n",
    "\n",
    "- B : Branca : wh\n",
    "- A : Amarela :\tye\n",
    "- P : Parda : br\n",
    "- N : Negra : bl\n",
    "- I : Indigena : br\n",
    "\n",
    "Neste caso, foi decidido colocar a raça indigena como parda já que ela não possui uma categoria específica no padrão iClinic, e, no entender do autor, esta foi a mais proxima.\n",
    "\n",
    "Em seguida é aplicado o seguinte comando para fazer a substituição das categorias:"
   ]
  },
  {
   "cell_type": "code",
   "execution_count": 16,
   "metadata": {},
   "outputs": [],
   "source": [
    "cor = {\n",
    "    'B': 'wh',\n",
    "    'A': 'ye',\n",
    "    'P': 'br',\n",
    "    'N': 'bl',\n",
    "    'I': 'br'\n",
    "}"
   ]
  },
  {
   "cell_type": "code",
   "execution_count": 17,
   "metadata": {},
   "outputs": [],
   "source": [
    "df['Cor'] = df['Cor'].replace(cor)"
   ]
  },
  {
   "cell_type": "markdown",
   "metadata": {},
   "source": [
    "### Trantamento do recurso 'Endereco'\n",
    "\n",
    "Nesta coluna estão incluidas as informações de outras colunas solicitadas no padrão iClinic.\n",
    "Assim, será preciso dividir esta informação em novas colunas que serão criadas a seguir:"
   ]
  },
  {
   "cell_type": "code",
   "execution_count": 18,
   "metadata": {},
   "outputs": [],
   "source": [
    "df['address'] = np.nan\n",
    "df['number'] = np.nan\n",
    "df['complement'] = np.nan\n",
    "df['neighborhood'] = np.nan\n",
    "df['country'] = \"BR\""
   ]
  },
  {
   "cell_type": "markdown",
   "metadata": {},
   "source": [
    "Dessa forma, o valor padrão delas será `NaN` com excepção da coluna 'country'.\n",
    "\n",
    "Em seguida, a informação contida no recurso 'Endereco' é dividida com o método `str.split(',')` e será armazenada numa coluna temporária de nome `row_with_adress`:"
   ]
  },
  {
   "cell_type": "code",
   "execution_count": 19,
   "metadata": {},
   "outputs": [],
   "source": [
    "row_with_adress = df['Endereco'].str.split(',')"
   ]
  },
  {
   "cell_type": "markdown",
   "metadata": {},
   "source": [
    "E finalmente, será feita a distribuição da informação de acordo ao seu tipo, como a seguir:"
   ]
  },
  {
   "cell_type": "code",
   "execution_count": 20,
   "metadata": {},
   "outputs": [],
   "source": [
    "\n",
    "df['number'] = [np.nan if str(x) == 'nan' else x[1].strip() if len(x) == 3 else np.nan for x in row_with_adress]\n",
    "df['neighborhood'] = [np.nan if str(x) == 'nan' else x[1].strip() if len(x) == 2 else x[2].strip() for x in row_with_adress]\n",
    "df['address'] = [np.nan if str(x) == 'nan' else x[0] for x in row_with_adress]"
   ]
  },
  {
   "cell_type": "markdown",
   "metadata": {},
   "source": [
    "### Trantamento dos recursos 'TipoTelefone' e 'Telefone'\n",
    "\n",
    "De modo semelhante ao realizado nos recursos 'EstadoCivil' e 'Cor', é necessário saber quais as categorias utilizadas para classificar o Tipo de telefone do paciente, assim, será aplicada a segiunte linha de código:"
   ]
  },
  {
   "cell_type": "code",
   "execution_count": 21,
   "metadata": {},
   "outputs": [
    {
     "data": {
      "text/plain": [
       "C    225\n",
       "T    195\n",
       "R    195\n",
       "Name: TipoTelefone, dtype: int64"
      ]
     },
     "execution_count": 21,
     "metadata": {},
     "output_type": "execute_result"
    }
   ],
   "source": [
    "df['TipoTelefone'].value_counts()"
   ]
  },
  {
   "cell_type": "markdown",
   "metadata": {},
   "source": [
    "Como realizado anteriormente, serão subsituidas essas categorias pelas equivalentes no padrão iClinic, como a seguir:\n",
    "\n",
    "- C : Celular : \"mobile_phone\"\n",
    "- T : Trabalho : \"office_phone\"\n",
    "- R : Residencial: \"home_phone\"\n",
    "\n",
    "Porém, diferentemente do realizado anteriormente, será necessário distribuir as categorias de uma coluna em outras de acordo a sua categoria, assim serão criadas novas colunas vazias:"
   ]
  },
  {
   "cell_type": "code",
   "execution_count": 22,
   "metadata": {},
   "outputs": [],
   "source": [
    "df['mobile_phone'] = np.nan\n",
    "df['home_phone'] = np.nan\n",
    "df['office_phone'] = np.nan"
   ]
  },
  {
   "cell_type": "markdown",
   "metadata": {},
   "source": [
    "Em seguida, serão extraídos somente os valores numéricos do recurso 'Telefone' e serão armazenados de volta como `string`:"
   ]
  },
  {
   "cell_type": "code",
   "execution_count": 23,
   "metadata": {},
   "outputs": [],
   "source": [
    "df['Telefone'] = df['Telefone'].astype('str').str.extractall('(\\d+)').unstack().fillna('').sum(axis=1).astype(int).astype('str')"
   ]
  },
  {
   "cell_type": "markdown",
   "metadata": {},
   "source": [
    "Finalmente, serão armazenados os numeros de telefone no formato desejado e na sua respectiva coluna:"
   ]
  },
  {
   "cell_type": "code",
   "execution_count": 24,
   "metadata": {},
   "outputs": [],
   "source": [
    "rows_t = df['TipoTelefone'].str.contains('T', na=False)\n",
    "df['office_phone'] = '(' + df['Telefone'][rows_t].str[-10:-8] + ')' + df['Telefone'][rows_t].str[-8:-4] + '-' + df['Telefone'][rows_t].str[-4:]\n",
    "\n",
    "rows_t = df['TipoTelefone'].str.contains('C', na=False)\n",
    "df['mobile_phone'] = '(' + df['Telefone'][rows_t].str[:2] + ')9' + df['Telefone'][rows_t].str[-8:-4] + '-' + df['Telefone'][rows_t].str[-4:]\n",
    "\n",
    "rows_t = df['TipoTelefone'].str.contains('R', na=False)\n",
    "df['home_phone'] = '(' + df['Telefone'][rows_t].str[-10:-8] + ')' + df['Telefone'][rows_t].str[-8:-4] + '-' + df['Telefone'][rows_t].str[-4:]"
   ]
  },
  {
   "cell_type": "markdown",
   "metadata": {},
   "source": [
    "### Mudança de nome das colunas para o padrão iClinic\n",
    "\n",
    "Em seguida será realizada a mudança no nome dos recursos no Dataset anterior para os nomes equivalente ao padrão iClinic:"
   ]
  },
  {
   "cell_type": "code",
   "execution_count": 25,
   "metadata": {},
   "outputs": [],
   "source": [
    "# Colocando o nome das colunas do arquivo de acordo a documentação da iClinic\n",
    "df = df.rename(\n",
    "    columns = {\n",
    "        \"Código\":\"patient_code\",\n",
    "        \"Nome\": \"name\",\n",
    "        \"DataNasc\":\"birth_date\",\n",
    "        \"Sexo\": \"gender\",\n",
    "        \"Estado\": \"state\",\n",
    "        \"Cidade\": \"city\",\n",
    "        \"CEP\": \"zip_code\",\n",
    "        \"Naturalidade\": \"birth_place\",\n",
    "        \"Profissao\": \"occupation\",\n",
    "        \"Pai\": \"patientrelatedness_father_names\",\n",
    "        \"Mae\": \"patientrelatedness_mother_names\",\n",
    "        \"Cor\": \"ethnicity\",\n",
    "        \"EstadoCivil\": \"marital_status\",\n",
    "    }\n",
    ")"
   ]
  },
  {
   "cell_type": "markdown",
   "metadata": {},
   "source": [
    "### Adição de recursos ausentes"
   ]
  },
  {
   "cell_type": "code",
   "execution_count": 26,
   "metadata": {},
   "outputs": [],
   "source": [
    "df['social_gender'] = np.nan\n",
    "df['civil_name'] = np.nan\n",
    "df['cpf'] = np.nan\n",
    "df['rg'] = np.nan\n",
    "df['rg_issuer'] = np.nan #segundo o modelo encontrado na documentação da iClinic, aqui está repetido 'rg' ao invés de 'rg_issuer', então colocaremos como achamos certo\n",
    "df['email'] = np.nan\n",
    "df['email_secondary'] = np.nan\n",
    "df['birth_state'] = np.nan\n",
    "df['picture_filename'] = np.nan\n",
    "df['religion'] = np.nan\n",
    "df['education'] = np.nan\n",
    "df['responsible'] = np.nan\n",
    "df['cns'] = np.nan #na documentação da iClini não existe 'sms' mas aparece segundo o modelo, pelo que não foi adicionado aqui\n",
    "df['died'] = np.nan\n",
    "df['death_info'] = np.nan\n",
    "df['nationality'] = \"BR\" \n",
    "df['indication'] = np.nan\n",
    "df['indication_observation'] = np.nan\n",
    "df['active'] = np.nan \n",
    "df['receive_email'] = np.nan\n",
    "df['observation'] = np.nan\n",
    "df['healthinsurance_pack'] = np.nan \n",
    "df['tag_names'] = np.nan\n",
    "df['tag_physician_id'] = np.nan\n",
    "df['picture_filename'] = np.nan"
   ]
  },
  {
   "cell_type": "markdown",
   "metadata": {},
   "source": [
    "### Remoção de linhas não contendo as informações necessárias\n",
    "\n",
    "A seguir, serão removidas as linhas contendo valores nulos na coluna 'birth_date':"
   ]
  },
  {
   "cell_type": "code",
   "execution_count": 27,
   "metadata": {},
   "outputs": [],
   "source": [
    "df = df.dropna(subset = ['birth_date'])"
   ]
  },
  {
   "cell_type": "markdown",
   "metadata": {},
   "source": [
    "### Remoção de recursos repetidos ou não necessários\n",
    "\n",
    "A seguir, serão removidos os recursos repetidos ou que não são mais necessários:"
   ]
  },
  {
   "cell_type": "code",
   "execution_count": 28,
   "metadata": {},
   "outputs": [],
   "source": [
    "df =  df.loc[:, [\"patient_code\",\"name\",\"civil_name\",\"birth_date\",\"gender\",\"social_gender\",\"cpf\",\"rg\",\"rg_issuer\",\"mobile_phone\",\"home_phone\",\"office_phone\",\"email\",\"email_secondary\",\"birth_place\",\"birth_state\",\"zip_code\",\"address\",\"number\",\"complement\",\"neighborhood\",\"city\",\"state\",\"country\",\"ethnicity\",\"marital_status\",\"religion\",\"occupation\",\"education\",\"responsible\",\"cns\",\"observation\",\"died\",\"death_info\",\"nationality\",\"indication\",\"indication_observation\",\"active\",\"receive_email\",\"healthinsurance_pack\",\"patientrelatedness_mother_names\",\"patientrelatedness_father_names\",\"tag_names\",\"tag_physician_id\",\"picture_filename\"]]"
   ]
  },
  {
   "cell_type": "markdown",
   "metadata": {},
   "source": [
    "## Exportação do arquivo de saída\n",
    "\n",
    "Como solicitado no desafio, o arquivo de saída será gerado com o conjunto de caracteres `UTF-8`:"
   ]
  },
  {
   "cell_type": "code",
   "execution_count": 29,
   "metadata": {},
   "outputs": [],
   "source": [
    "df.to_csv('desafio-base1-output/patient.csv',index=False, encoding='utf-8')\n"
   ]
  }
 ],
 "metadata": {
  "interpreter": {
   "hash": "efaa2df0126d1cfe86bc807cae229c90ce095cf51fbc3c4f46172a2e305a7932"
  },
  "kernelspec": {
   "display_name": "Python 3.8.10 ('venv': venv)",
   "language": "python",
   "name": "python3"
  },
  "language_info": {
   "codemirror_mode": {
    "name": "ipython",
    "version": 3
   },
   "file_extension": ".py",
   "mimetype": "text/x-python",
   "name": "python",
   "nbconvert_exporter": "python",
   "pygments_lexer": "ipython3",
   "version": "3.8.10"
  },
  "orig_nbformat": 4
 },
 "nbformat": 4,
 "nbformat_minor": 2
}
