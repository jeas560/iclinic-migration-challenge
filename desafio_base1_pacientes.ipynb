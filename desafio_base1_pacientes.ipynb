{
 "cells": [
  {
   "cell_type": "code",
   "execution_count": 1,
   "metadata": {},
   "outputs": [],
   "source": [
    "import numpy as np\n",
    "import pandas as pd"
   ]
  },
  {
   "cell_type": "code",
   "execution_count": 2,
   "metadata": {},
   "outputs": [
    {
     "data": {
      "text/plain": [
       "(783, 18)"
      ]
     },
     "execution_count": 2,
     "metadata": {},
     "output_type": "execute_result"
    }
   ],
   "source": [
    "df = pd.read_csv('desafio-base1/pacientes.csv', parse_dates=['DataNasc'], encoding='iso-8859-1', quotechar='\"', delimiter='|')\n",
    "df.shape"
   ]
  },
  {
   "cell_type": "code",
   "execution_count": 3,
   "metadata": {},
   "outputs": [
    {
     "data": {
      "text/html": [
       "<div>\n",
       "<style scoped>\n",
       "    .dataframe tbody tr th:only-of-type {\n",
       "        vertical-align: middle;\n",
       "    }\n",
       "\n",
       "    .dataframe tbody tr th {\n",
       "        vertical-align: top;\n",
       "    }\n",
       "\n",
       "    .dataframe thead th {\n",
       "        text-align: right;\n",
       "    }\n",
       "</style>\n",
       "<table border=\"1\" class=\"dataframe\">\n",
       "  <thead>\n",
       "    <tr style=\"text-align: right;\">\n",
       "      <th></th>\n",
       "      <th>0</th>\n",
       "      <th>1</th>\n",
       "      <th>2</th>\n",
       "    </tr>\n",
       "  </thead>\n",
       "  <tbody>\n",
       "    <tr>\n",
       "      <th>Código</th>\n",
       "      <td>0</td>\n",
       "      <td>1</td>\n",
       "      <td>2</td>\n",
       "    </tr>\n",
       "    <tr>\n",
       "      <th>Nome</th>\n",
       "      <td>Pedro Henrique Porto</td>\n",
       "      <td>João Vitor da Paz</td>\n",
       "      <td>Theo Nunes</td>\n",
       "    </tr>\n",
       "    <tr>\n",
       "      <th>DataNasc</th>\n",
       "      <td>NaT</td>\n",
       "      <td>1996-01-01 00:00:00</td>\n",
       "      <td>1959-01-01 00:00:00</td>\n",
       "    </tr>\n",
       "    <tr>\n",
       "      <th>Sexo</th>\n",
       "      <td>M</td>\n",
       "      <td>M</td>\n",
       "      <td>NaN</td>\n",
       "    </tr>\n",
       "    <tr>\n",
       "      <th>Estado</th>\n",
       "      <td>RJ</td>\n",
       "      <td>AP</td>\n",
       "      <td>NaN</td>\n",
       "    </tr>\n",
       "    <tr>\n",
       "      <th>Endereco</th>\n",
       "      <td>Quadra Caroline Dias, 482, Salgado Filho</td>\n",
       "      <td>Setor Nunes, Santa Lúcia</td>\n",
       "      <td>NaN</td>\n",
       "    </tr>\n",
       "    <tr>\n",
       "      <th>Cidade</th>\n",
       "      <td>Ramos</td>\n",
       "      <td>Nogueira</td>\n",
       "      <td>NaN</td>\n",
       "    </tr>\n",
       "    <tr>\n",
       "      <th>CEP</th>\n",
       "      <td>31924-681</td>\n",
       "      <td>28517-970</td>\n",
       "      <td>NaN</td>\n",
       "    </tr>\n",
       "    <tr>\n",
       "      <th>Naturalidade</th>\n",
       "      <td>Campos do Amparo</td>\n",
       "      <td>Araújo</td>\n",
       "      <td>Lopes</td>\n",
       "    </tr>\n",
       "    <tr>\n",
       "      <th>Telefone</th>\n",
       "      <td>(021) 9313-9128</td>\n",
       "      <td>(021) 5202 2566</td>\n",
       "      <td>NaN</td>\n",
       "    </tr>\n",
       "    <tr>\n",
       "      <th>TipoTelefone</th>\n",
       "      <td>T</td>\n",
       "      <td>T</td>\n",
       "      <td>NaN</td>\n",
       "    </tr>\n",
       "    <tr>\n",
       "      <th>Profissao</th>\n",
       "      <td>Reumatologista</td>\n",
       "      <td>Fotógrafo</td>\n",
       "      <td>Atendente</td>\n",
       "    </tr>\n",
       "    <tr>\n",
       "      <th>Pai</th>\n",
       "      <td>Diego Silveira</td>\n",
       "      <td>André Campos</td>\n",
       "      <td>Eduardo Lima</td>\n",
       "    </tr>\n",
       "    <tr>\n",
       "      <th>Mae</th>\n",
       "      <td>Emanuella Lima</td>\n",
       "      <td>Isabel Gomes</td>\n",
       "      <td>Brenda Mendes</td>\n",
       "    </tr>\n",
       "    <tr>\n",
       "      <th>Conjuge</th>\n",
       "      <td>Lorenzo Silveira</td>\n",
       "      <td>Pietra Pereira</td>\n",
       "      <td>Marcos Vinicius Aragão</td>\n",
       "    </tr>\n",
       "    <tr>\n",
       "      <th>ProfissaoConjuge</th>\n",
       "      <td>Juiz ou árbitro de futebol</td>\n",
       "      <td>Astrônomo</td>\n",
       "      <td>Armador</td>\n",
       "    </tr>\n",
       "    <tr>\n",
       "      <th>Cor</th>\n",
       "      <td>NaN</td>\n",
       "      <td>B</td>\n",
       "      <td>I</td>\n",
       "    </tr>\n",
       "    <tr>\n",
       "      <th>EstadoCivil</th>\n",
       "      <td>NaN</td>\n",
       "      <td>VI</td>\n",
       "      <td>NaN</td>\n",
       "    </tr>\n",
       "  </tbody>\n",
       "</table>\n",
       "</div>"
      ],
      "text/plain": [
       "                                                         0  \\\n",
       "Código                                                   0   \n",
       "Nome                                  Pedro Henrique Porto   \n",
       "DataNasc                                               NaT   \n",
       "Sexo                                                     M   \n",
       "Estado                                                  RJ   \n",
       "Endereco          Quadra Caroline Dias, 482, Salgado Filho   \n",
       "Cidade                                               Ramos   \n",
       "CEP                                              31924-681   \n",
       "Naturalidade                              Campos do Amparo   \n",
       "Telefone                                   (021) 9313-9128   \n",
       "TipoTelefone                                             T   \n",
       "Profissao                                   Reumatologista   \n",
       "Pai                                         Diego Silveira   \n",
       "Mae                                         Emanuella Lima   \n",
       "Conjuge                                   Lorenzo Silveira   \n",
       "ProfissaoConjuge                Juiz ou árbitro de futebol   \n",
       "Cor                                                    NaN   \n",
       "EstadoCivil                                            NaN   \n",
       "\n",
       "                                         1                       2  \n",
       "Código                                   1                       2  \n",
       "Nome                     João Vitor da Paz              Theo Nunes  \n",
       "DataNasc               1996-01-01 00:00:00     1959-01-01 00:00:00  \n",
       "Sexo                                     M                     NaN  \n",
       "Estado                                  AP                     NaN  \n",
       "Endereco          Setor Nunes, Santa Lúcia                     NaN  \n",
       "Cidade                            Nogueira                     NaN  \n",
       "CEP                              28517-970                     NaN  \n",
       "Naturalidade                        Araújo                   Lopes  \n",
       "Telefone                   (021) 5202 2566                     NaN  \n",
       "TipoTelefone                             T                     NaN  \n",
       "Profissao                        Fotógrafo               Atendente  \n",
       "Pai                           André Campos            Eduardo Lima  \n",
       "Mae                           Isabel Gomes           Brenda Mendes  \n",
       "Conjuge                     Pietra Pereira  Marcos Vinicius Aragão  \n",
       "ProfissaoConjuge                 Astrônomo                 Armador  \n",
       "Cor                                      B                       I  \n",
       "EstadoCivil                             VI                     NaN  "
      ]
     },
     "execution_count": 3,
     "metadata": {},
     "output_type": "execute_result"
    }
   ],
   "source": [
    "df.head(3).T"
   ]
  },
  {
   "cell_type": "code",
   "execution_count": 4,
   "metadata": {},
   "outputs": [
    {
     "name": "stdout",
     "output_type": "stream",
     "text": [
      "<class 'pandas.core.frame.DataFrame'>\n",
      "RangeIndex: 783 entries, 0 to 782\n",
      "Data columns (total 18 columns):\n",
      " #   Column            Non-Null Count  Dtype         \n",
      "---  ------            --------------  -----         \n",
      " 0   Código            783 non-null    int64         \n",
      " 1   Nome              783 non-null    object        \n",
      " 2   DataNasc          635 non-null    datetime64[ns]\n",
      " 3   Sexo              632 non-null    object        \n",
      " 4   Estado            632 non-null    object        \n",
      " 5   Endereco          632 non-null    object        \n",
      " 6   Cidade            632 non-null    object        \n",
      " 7   CEP               632 non-null    object        \n",
      " 8   Naturalidade      643 non-null    object        \n",
      " 9   Telefone          615 non-null    object        \n",
      " 10  TipoTelefone      615 non-null    object        \n",
      " 11  Profissao         629 non-null    object        \n",
      " 12  Pai               622 non-null    object        \n",
      " 13  Mae               633 non-null    object        \n",
      " 14  Conjuge           639 non-null    object        \n",
      " 15  ProfissaoConjuge  639 non-null    object        \n",
      " 16  Cor               631 non-null    object        \n",
      " 17  EstadoCivil       634 non-null    object        \n",
      "dtypes: datetime64[ns](1), int64(1), object(16)\n",
      "memory usage: 110.2+ KB\n"
     ]
    }
   ],
   "source": [
    "df.info()"
   ]
  },
  {
   "cell_type": "code",
   "execution_count": 5,
   "metadata": {},
   "outputs": [],
   "source": [
    "# Trantando recurso \"Sexo\"\n",
    "# Testei uma ideia originalmente, mas não me pareceu foi correta\n",
    "# df['Sexo'] = df['Sexo'].astype(str).str.lower()\n",
    "# Pelo que achei melhor utilizar list comprehension, desta forma se tiver algum outro caracter não correto ele receberá o valor NaN\n",
    "#print(df['Sexo'].isna().sum())\n",
    "df['Sexo'] = ['m' if x == 'M' else 'f' if x == 'F' else np.nan for x in df['Sexo']]\n",
    "#print(df['Sexo'].isna().sum())\n",
    "# Verifiquei que a quantidade de NaN ficou imutável após a mudança"
   ]
  },
  {
   "cell_type": "code",
   "execution_count": 6,
   "metadata": {},
   "outputs": [
    {
     "name": "stdout",
     "output_type": "stream",
     "text": [
      "True    632\n",
      "Name: Estado, dtype: int64\n"
     ]
    }
   ],
   "source": [
    "# Trantando recurso \"Estado\"\n",
    "teste = df['Estado'].str.contains(r'\\b[A-Z]{2}')\n",
    "print(teste.value_counts())\n",
    "# Verifiquei se alguma informação não se adequava ao padrão estado (duas letras maiusculas), como o valore de True coincide com a quantidade de valores não nulos da coluna, logo todos os registros estão corretamente formatados"
   ]
  },
  {
   "cell_type": "code",
   "execution_count": 7,
   "metadata": {},
   "outputs": [],
   "source": [
    "# Trantando recurso \"CEP\"\n",
    "# Primeiro verifiquei a quantidade de NaN para garantir que ele continuasse o mesmo\n",
    "# Em seguida mapiei os registros que possuem o caracter '-'\n",
    "# print(df['CEP'].isna().sum())\n",
    "rows_with_dashes = df['CEP'].str.contains('-')\n",
    "df['CEP'] = [df['CEP'][i] if x == True else df['CEP'][i][:5]+'-'+df['CEP'][i][5:] if x == False else np.nan for i, x in enumerate(rows_with_dashes)]\n",
    "# print(df['CEP'].isna().sum())"
   ]
  },
  {
   "cell_type": "code",
   "execution_count": 8,
   "metadata": {},
   "outputs": [
    {
     "name": "stdout",
     "output_type": "stream",
     "text": [
      "CA    187\n",
      "ES    170\n",
      "VI    145\n",
      "SE    132\n",
      "Name: EstadoCivil, dtype: int64\n"
     ]
    }
   ],
   "source": [
    "# Tratar recurso \"EstadoCivil\"\n",
    "print(df['EstadoCivil'].value_counts())\n",
    "# Obtendo as seguintes categorias:\n",
    "# CA = casado = ma\n",
    "# ES = união estável = st\n",
    "# VI = Viúvo = wi\n",
    "# SE = Separado = se"
   ]
  },
  {
   "cell_type": "code",
   "execution_count": 9,
   "metadata": {},
   "outputs": [],
   "source": [
    "df['EstadoCivil'].replace({'CA': 'ms', 'ES': 'st', 'VI': 'wi','SE': 'se'}, inplace=True)"
   ]
  },
  {
   "cell_type": "code",
   "execution_count": 10,
   "metadata": {},
   "outputs": [
    {
     "name": "stdout",
     "output_type": "stream",
     "text": [
      "B    132\n",
      "A    131\n",
      "P    127\n",
      "N    127\n",
      "I    114\n",
      "Name: Cor, dtype: int64\n"
     ]
    }
   ],
   "source": [
    "# Tratar recurso \"Cor\"\n",
    "print(df['Cor'].value_counts())\n",
    "#B = branca = wh\n",
    "#A = amarela = ye\n",
    "#P = parda = br\n",
    "#N = negra = bl\n",
    "#I = indegena = br?"
   ]
  },
  {
   "cell_type": "code",
   "execution_count": 11,
   "metadata": {},
   "outputs": [],
   "source": [
    "df['Cor'].replace({'B': 'wh', 'A': 'ye', 'P': 'br','N': 'bl', 'I': 'br'}, inplace=True)"
   ]
  },
  {
   "cell_type": "code",
   "execution_count": 12,
   "metadata": {},
   "outputs": [],
   "source": [
    "#Tratar recurso 'Endereco'\n",
    "#Criando novas colunas relativas as informações dp endereço do paciente \n",
    "df['address'] = np.nan\n",
    "df['number'] = np.nan\n",
    "df['complement'] = np.nan\n",
    "df['neighborhood'] = np.nan\n",
    "df['country'] = \"BR\""
   ]
  },
  {
   "cell_type": "code",
   "execution_count": 13,
   "metadata": {},
   "outputs": [],
   "source": [
    "# Separando as informações e distribuindo de acordo ao seu tipo\n",
    "row_with_adress = df['Endereco'].str.split(',')\n",
    "df['number'] = [np.nan if str(x) == 'nan' else x[1].strip() if len(x) == 3 else np.nan for x in row_with_adress]\n",
    "df['neighborhood'] = [np.nan if str(x) == 'nan' else x[1].strip() if len(x) == 2 else x[2].strip() for x in row_with_adress]\n",
    "df['address'] = [np.nan if str(x) == 'nan' else x[0] for x in row_with_adress]"
   ]
  },
  {
   "cell_type": "code",
   "execution_count": 14,
   "metadata": {},
   "outputs": [
    {
     "name": "stdout",
     "output_type": "stream",
     "text": [
      "C    225\n",
      "T    195\n",
      "R    195\n",
      "Name: TipoTelefone, dtype: int64\n"
     ]
    }
   ],
   "source": [
    "#Fazendo analise dos valores na serie TipoTelefone\n",
    "print(df['TipoTelefone'].value_counts())"
   ]
  },
  {
   "cell_type": "code",
   "execution_count": 15,
   "metadata": {},
   "outputs": [],
   "source": [
    "#Criando as colunas relativas ao tipo de phone e tratando as series 'Telefone' e 'TipoTelefone'\n",
    "df['mobile_phone'] = np.nan\n",
    "df['home_phone'] = np.nan\n",
    "df['office_phone'] = np.nan"
   ]
  },
  {
   "cell_type": "code",
   "execution_count": 16,
   "metadata": {},
   "outputs": [],
   "source": [
    "#Extraindo apenas os valores numericos dos numeros de telefone\n",
    "df['Telefone'] = df['Telefone'].astype('str').str.extractall('(\\d+)').unstack().fillna('').sum(axis=1).astype(int).astype('str')"
   ]
  },
  {
   "cell_type": "code",
   "execution_count": 17,
   "metadata": {},
   "outputs": [],
   "source": [
    "#Verificando o tipo de telefone T, trabalho\n",
    "rows_t = df['TipoTelefone'].str.contains('T', na=False)\n",
    "df['office_phone'] = '(' + df['Telefone'][rows_t].str[-10:-8] + ')' + df['Telefone'][rows_t].str[-8:-4] + '-' + df['Telefone'][rows_t].str[-4:]\n",
    "#Verificando o tipo de telefone C, celular\n",
    "rows_t = df['TipoTelefone'].str.contains('C', na=False)\n",
    "df['mobile_phone'] = '(' + df['Telefone'][rows_t].str[:2] + ')9' + df['Telefone'][rows_t].str[-8:-4] + '-' + df['Telefone'][rows_t].str[-4:]\n",
    "#Verificando o tipo de telefone R, residencial\n",
    "rows_t = df['TipoTelefone'].str.contains('R', na=False)\n",
    "df['home_phone'] = '(' + df['Telefone'][rows_t].str[-10:-8] + ')' + df['Telefone'][rows_t].str[-8:-4] + '-' + df['Telefone'][rows_t].str[-4:]"
   ]
  },
  {
   "cell_type": "code",
   "execution_count": 18,
   "metadata": {},
   "outputs": [],
   "source": [
    "# Colocando o nome das colunas do arquivo de acordo a documentacção da iClinic\n",
    "df = df.rename(\n",
    "    columns = {\n",
    "        \"Código\":\"patient_id\",\n",
    "        \"Nome\": \"name\",\n",
    "        \"DataNasc\":\"birth_date\",\n",
    "        \"Sexo\": \"gender\",\n",
    "        \"Estado\": \"state\",\n",
    "        \"Cidade\": \"city\",\n",
    "        \"CEP\": \"zip_code\",\n",
    "        \"Naturalidade\": \"birth_place\",\n",
    "        \"Profissao\": \"occupation\",\n",
    "        \"Pai\": \"patientrelatedness_father_names\",\n",
    "        \"Mae\": \"patientrelatedness_mother_names\",\n",
    "        \"Cor\": \"ethnicity\",\n",
    "        \"EstadoCivil\": \"marital_status\",\n",
    "    }\n",
    ")"
   ]
  },
  {
   "cell_type": "code",
   "execution_count": 22,
   "metadata": {},
   "outputs": [],
   "source": [
    "#Adiconando as colunas faltantes\n",
    "df['gender'] = np.nan\n",
    "df['cpf'] = np.nan\n",
    "df['rg'] = np.nan\n",
    "df['rg_issuer'] = np.nan #na documentação estava repetindo 'rg'\n",
    "df['email'] = np.nan\n",
    "df['email_secondary'] = np.nan\n",
    "df['birth_state'] = np.nan\n",
    "df['picture_filename'] = np.nan\n",
    "df['religion'] = np.nan\n",
    "df['education'] = np.nan\n",
    "df['responsible'] = np.nan\n",
    "df['cns'] = np.nan #na documentação estava não existe 'sms'\n",
    "df['died'] = np.nan\n",
    "df['death_info'] = np.nan\n",
    "df['nationality'] = np.nan \n",
    "df['indication'] = np.nan\n",
    "df['indication_observation'] = np.nan\n",
    "df['active'] = np.nan \n",
    "df['receive_email'] = np.nan\n",
    "df['observation'] = np.nan\n",
    "df['healthinsurance_pack'] = np.nan \n",
    "df['tag_names'] = np.nan\n",
    "df['tag_physician_id'] = np.nan"
   ]
  },
  {
   "cell_type": "code",
   "execution_count": 23,
   "metadata": {},
   "outputs": [],
   "source": [
    "df =  df.loc[:, [\"patient_id\",\"name\",\"birth_date\",\"gender\",\"cpf\",\"rg\",\"rg_issuer\",\"mobile_phone\",\"home_phone\",\"office_phone\",\"email\",\"email_secondary\",\"birth_place\",\"birth_state\",\"zip_code\",\"address\",\"number\",\"complement\",\"neighborhood\",\"city\",\"state\",\"country\",\"picture_filename\",\"ethnicity\",\"marital_status\",\"religion\",\"occupation\",\"education\",\"responsible\",\"cns\",\"died\",\"death_info\",\"nationality\",\"indication\",\"indication_observation\",\"active\",\"receive_email\",\"observation\",\"healthinsurance_pack\",\"patientrelatedness_mother_names\",\"patientrelatedness_father_names\",\"tag_names\",\"tag_physician_id\"]]"
   ]
  },
  {
   "cell_type": "code",
   "execution_count": 24,
   "metadata": {},
   "outputs": [],
   "source": [
    "df.to_csv('patient.csv',index=False, encoding='utf-8')\n"
   ]
  }
 ],
 "metadata": {
  "interpreter": {
   "hash": "efaa2df0126d1cfe86bc807cae229c90ce095cf51fbc3c4f46172a2e305a7932"
  },
  "kernelspec": {
   "display_name": "Python 3.8.10 ('venv': venv)",
   "language": "python",
   "name": "python3"
  },
  "language_info": {
   "codemirror_mode": {
    "name": "ipython",
    "version": 3
   },
   "file_extension": ".py",
   "mimetype": "text/x-python",
   "name": "python",
   "nbconvert_exporter": "python",
   "pygments_lexer": "ipython3",
   "version": "3.8.10"
  },
  "orig_nbformat": 4
 },
 "nbformat": 4,
 "nbformat_minor": 2
}
